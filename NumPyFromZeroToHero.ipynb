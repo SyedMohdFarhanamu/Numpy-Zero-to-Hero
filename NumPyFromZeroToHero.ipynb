{
 "cells": [
  {
   "cell_type": "markdown",
   "id": "791cae91",
   "metadata": {},
   "source": [
    "# NumPy"
   ]
  },
  {
   "cell_type": "markdown",
   "id": "5c61146d",
   "metadata": {},
   "source": [
    "- NumPy is used to work with arrays. The array object in NumPy is called ndarray.\n",
    "- We can create a NumPy ndarray object by using the array() function."
   ]
  },
  {
   "cell_type": "code",
   "execution_count": 1,
   "id": "44df1145",
   "metadata": {},
   "outputs": [],
   "source": [
    "import numpy as np"
   ]
  },
  {
   "cell_type": "markdown",
   "id": "09201d27",
   "metadata": {},
   "source": [
    "# To create an ndarray, we can pass a list, tuple or any array-like object into the array() method, and it will be converted into an ndarray:"
   ]
  },
  {
   "cell_type": "code",
   "execution_count": 2,
   "id": "c1729c8f",
   "metadata": {},
   "outputs": [],
   "source": [
    "a = np.array([1,2,3,4,5])"
   ]
  },
  {
   "cell_type": "code",
   "execution_count": 3,
   "id": "1c500867",
   "metadata": {},
   "outputs": [],
   "source": [
    "b = np.array((9,8,7,6))"
   ]
  },
  {
   "cell_type": "code",
   "execution_count": 4,
   "id": "2c689cc5",
   "metadata": {},
   "outputs": [
    {
     "name": "stdout",
     "output_type": "stream",
     "text": [
      "[1 2 3 4 5]\n"
     ]
    }
   ],
   "source": [
    "print(a)"
   ]
  },
  {
   "cell_type": "code",
   "execution_count": 5,
   "id": "2860797e",
   "metadata": {},
   "outputs": [
    {
     "name": "stdout",
     "output_type": "stream",
     "text": [
      "[9 8 7 6]\n"
     ]
    }
   ],
   "source": [
    "print(b)"
   ]
  },
  {
   "cell_type": "markdown",
   "id": "e1c2d5f2",
   "metadata": {},
   "source": [
    "- type(): This built-in Python function tells us the type of the object passed to it. Like in above code it shows that 'a' is numpy.ndarray type."
   ]
  },
  {
   "cell_type": "code",
   "execution_count": 6,
   "id": "2f6242d3",
   "metadata": {},
   "outputs": [
    {
     "data": {
      "text/plain": [
       "numpy.ndarray"
      ]
     },
     "execution_count": 6,
     "metadata": {},
     "output_type": "execute_result"
    }
   ],
   "source": [
    "type(a)"
   ]
  },
  {
   "cell_type": "code",
   "execution_count": 7,
   "id": "05dd4682",
   "metadata": {},
   "outputs": [
    {
     "data": {
      "text/plain": [
       "numpy.ndarray"
      ]
     },
     "execution_count": 7,
     "metadata": {},
     "output_type": "execute_result"
    }
   ],
   "source": [
    "type(b)"
   ]
  },
  {
   "cell_type": "code",
   "execution_count": 8,
   "id": "ff6dd404",
   "metadata": {},
   "outputs": [
    {
     "data": {
      "text/plain": [
       "dtype('int32')"
      ]
     },
     "execution_count": 8,
     "metadata": {},
     "output_type": "execute_result"
    }
   ],
   "source": [
    "a.dtype"
   ]
  },
  {
   "cell_type": "code",
   "execution_count": 9,
   "id": "7e149218",
   "metadata": {},
   "outputs": [
    {
     "data": {
      "text/plain": [
       "dtype('int32')"
      ]
     },
     "execution_count": 9,
     "metadata": {},
     "output_type": "execute_result"
    }
   ],
   "source": [
    "b.dtype"
   ]
  },
  {
   "cell_type": "code",
   "execution_count": 10,
   "id": "72085218",
   "metadata": {},
   "outputs": [],
   "source": [
    "a = np.array([1,2,3,4,5], dtype = \"i\")"
   ]
  },
  {
   "cell_type": "code",
   "execution_count": 11,
   "id": "2b4702f3",
   "metadata": {},
   "outputs": [
    {
     "name": "stdout",
     "output_type": "stream",
     "text": [
      "[1 2 3 4 5]\n"
     ]
    }
   ],
   "source": [
    "print(a)"
   ]
  },
  {
   "cell_type": "code",
   "execution_count": 12,
   "id": "f1256e43",
   "metadata": {},
   "outputs": [
    {
     "data": {
      "text/plain": [
       "numpy.ndarray"
      ]
     },
     "execution_count": 12,
     "metadata": {},
     "output_type": "execute_result"
    }
   ],
   "source": [
    "type(a)"
   ]
  },
  {
   "cell_type": "code",
   "execution_count": 13,
   "id": "680ef33a",
   "metadata": {},
   "outputs": [
    {
     "data": {
      "text/plain": [
       "dtype('int32')"
      ]
     },
     "execution_count": 13,
     "metadata": {},
     "output_type": "execute_result"
    }
   ],
   "source": [
    "a.dtype"
   ]
  },
  {
   "cell_type": "code",
   "execution_count": 14,
   "id": "8f6199d3",
   "metadata": {},
   "outputs": [],
   "source": [
    "b = np.array((9,8,7,6), dtype = 'f')"
   ]
  },
  {
   "cell_type": "code",
   "execution_count": 15,
   "id": "96431a2d",
   "metadata": {},
   "outputs": [
    {
     "name": "stdout",
     "output_type": "stream",
     "text": [
      "[9. 8. 7. 6.]\n"
     ]
    }
   ],
   "source": [
    "print(b)"
   ]
  },
  {
   "cell_type": "code",
   "execution_count": 16,
   "id": "42ae86cc",
   "metadata": {},
   "outputs": [
    {
     "data": {
      "text/plain": [
       "numpy.ndarray"
      ]
     },
     "execution_count": 16,
     "metadata": {},
     "output_type": "execute_result"
    }
   ],
   "source": [
    "type(b)"
   ]
  },
  {
   "cell_type": "code",
   "execution_count": 17,
   "id": "f29fa46f",
   "metadata": {},
   "outputs": [
    {
     "data": {
      "text/plain": [
       "dtype('float32')"
      ]
     },
     "execution_count": 17,
     "metadata": {},
     "output_type": "execute_result"
    }
   ],
   "source": [
    "b.dtype"
   ]
  },
  {
   "cell_type": "markdown",
   "id": "74fb4502",
   "metadata": {},
   "source": [
    "# NumPy(Dimensions)"
   ]
  },
  {
   "cell_type": "code",
   "execution_count": 18,
   "id": "48776f13",
   "metadata": {},
   "outputs": [
    {
     "name": "stdout",
     "output_type": "stream",
     "text": [
      "[1 2 3 4 5]\n"
     ]
    }
   ],
   "source": [
    "print(a)"
   ]
  },
  {
   "cell_type": "code",
   "execution_count": 19,
   "id": "f9dcc167",
   "metadata": {},
   "outputs": [
    {
     "name": "stdout",
     "output_type": "stream",
     "text": [
      "[9. 8. 7. 6.]\n"
     ]
    }
   ],
   "source": [
    "print(b)"
   ]
  },
  {
   "cell_type": "code",
   "execution_count": 257,
   "id": "e3967f19",
   "metadata": {},
   "outputs": [
    {
     "data": {
      "text/plain": [
       "1"
      ]
     },
     "execution_count": 257,
     "metadata": {},
     "output_type": "execute_result"
    }
   ],
   "source": [
    "a=np.array([5,6,5,6])\n",
    "a.ndim\n",
    "#a.shape"
   ]
  },
  {
   "cell_type": "code",
   "execution_count": 258,
   "id": "09056ea8",
   "metadata": {},
   "outputs": [
    {
     "data": {
      "text/plain": [
       "(4,)"
      ]
     },
     "execution_count": 258,
     "metadata": {},
     "output_type": "execute_result"
    }
   ],
   "source": [
    "a.shape"
   ]
  },
  {
   "cell_type": "markdown",
   "id": "a17412f9",
   "metadata": {},
   "source": [
    "# array of dim-1 and array of dim-1 is called array of 2-Dimension Array.\n"
   ]
  },
  {
   "cell_type": "code",
   "execution_count": 21,
   "id": "924c9796",
   "metadata": {},
   "outputs": [],
   "source": [
    "c = np.array([[7,5,3],[9,5,1]])"
   ]
  },
  {
   "cell_type": "code",
   "execution_count": 22,
   "id": "fd9c97ae",
   "metadata": {},
   "outputs": [
    {
     "name": "stdout",
     "output_type": "stream",
     "text": [
      "[[7 5 3]\n",
      " [9 5 1]]\n"
     ]
    }
   ],
   "source": [
    "print(c)"
   ]
  },
  {
   "cell_type": "code",
   "execution_count": 23,
   "id": "9bd1ff4e",
   "metadata": {},
   "outputs": [
    {
     "data": {
      "text/plain": [
       "1"
      ]
     },
     "execution_count": 23,
     "metadata": {},
     "output_type": "execute_result"
    }
   ],
   "source": [
    "a.ndim"
   ]
  },
  {
   "cell_type": "code",
   "execution_count": 24,
   "id": "d37b1a94",
   "metadata": {},
   "outputs": [
    {
     "data": {
      "text/plain": [
       "1"
      ]
     },
     "execution_count": 24,
     "metadata": {},
     "output_type": "execute_result"
    }
   ],
   "source": [
    "b.ndim"
   ]
  },
  {
   "cell_type": "code",
   "execution_count": 25,
   "id": "546019a5",
   "metadata": {},
   "outputs": [
    {
     "data": {
      "text/plain": [
       "2"
      ]
     },
     "execution_count": 25,
     "metadata": {},
     "output_type": "execute_result"
    }
   ],
   "source": [
    "c.ndim"
   ]
  },
  {
   "cell_type": "code",
   "execution_count": 26,
   "id": "fc4837f0",
   "metadata": {},
   "outputs": [
    {
     "data": {
      "text/plain": [
       "1"
      ]
     },
     "execution_count": 26,
     "metadata": {},
     "output_type": "execute_result"
    }
   ],
   "source": [
    "c[1,2]"
   ]
  },
  {
   "cell_type": "code",
   "execution_count": 27,
   "id": "aa2e808c",
   "metadata": {},
   "outputs": [
    {
     "data": {
      "text/plain": [
       "5"
      ]
     },
     "execution_count": 27,
     "metadata": {},
     "output_type": "execute_result"
    }
   ],
   "source": [
    "c[0,1]"
   ]
  },
  {
   "cell_type": "code",
   "execution_count": 28,
   "id": "ee3584f3",
   "metadata": {},
   "outputs": [],
   "source": [
    "d = np.array([[1,2,3,5,6],[4,5,6,8,9],[1,4,5,9,8]])"
   ]
  },
  {
   "cell_type": "code",
   "execution_count": 29,
   "id": "b9427260",
   "metadata": {},
   "outputs": [
    {
     "name": "stdout",
     "output_type": "stream",
     "text": [
      "[[1 2 3 5 6]\n",
      " [4 5 6 8 9]\n",
      " [1 4 5 9 8]]\n"
     ]
    }
   ],
   "source": [
    "print(d)"
   ]
  },
  {
   "cell_type": "code",
   "execution_count": 30,
   "id": "86b97e9e",
   "metadata": {},
   "outputs": [
    {
     "data": {
      "text/plain": [
       "2"
      ]
     },
     "execution_count": 30,
     "metadata": {},
     "output_type": "execute_result"
    }
   ],
   "source": [
    "d.ndim"
   ]
  },
  {
   "cell_type": "code",
   "execution_count": 31,
   "id": "79d59a34",
   "metadata": {},
   "outputs": [
    {
     "data": {
      "text/plain": [
       "9"
      ]
     },
     "execution_count": 31,
     "metadata": {},
     "output_type": "execute_result"
    }
   ],
   "source": [
    "d[1,4]"
   ]
  },
  {
   "cell_type": "markdown",
   "id": "5d7e4d82",
   "metadata": {},
   "source": [
    "# array of dim-2 and array of dim-2 is called array of 3-Dimension Array."
   ]
  },
  {
   "cell_type": "code",
   "execution_count": 32,
   "id": "e8308473",
   "metadata": {},
   "outputs": [],
   "source": [
    "A = np.array([[[7,5,3],[9,5,1]],[[-7,-5,-3],[-9,-5,-1]]])"
   ]
  },
  {
   "cell_type": "code",
   "execution_count": 33,
   "id": "53eefaad",
   "metadata": {},
   "outputs": [
    {
     "name": "stdout",
     "output_type": "stream",
     "text": [
      "[[[ 7  5  3]\n",
      "  [ 9  5  1]]\n",
      "\n",
      " [[-7 -5 -3]\n",
      "  [-9 -5 -1]]]\n"
     ]
    }
   ],
   "source": [
    "print(A)"
   ]
  },
  {
   "cell_type": "code",
   "execution_count": 34,
   "id": "c29f20da",
   "metadata": {},
   "outputs": [
    {
     "data": {
      "text/plain": [
       "3"
      ]
     },
     "execution_count": 34,
     "metadata": {},
     "output_type": "execute_result"
    }
   ],
   "source": [
    "A.ndim"
   ]
  },
  {
   "cell_type": "code",
   "execution_count": 35,
   "id": "13065c9d",
   "metadata": {},
   "outputs": [
    {
     "data": {
      "text/plain": [
       "-5"
      ]
     },
     "execution_count": 35,
     "metadata": {},
     "output_type": "execute_result"
    }
   ],
   "source": [
    "# indexing is always from outer square bracket to inner\n",
    "A[1,0,1]\n"
   ]
  },
  {
   "cell_type": "code",
   "execution_count": 36,
   "id": "8aad86a3",
   "metadata": {},
   "outputs": [
    {
     "data": {
      "text/plain": [
       "(2, 2, 3)"
      ]
     },
     "execution_count": 36,
     "metadata": {},
     "output_type": "execute_result"
    }
   ],
   "source": [
    "A.shape"
   ]
  },
  {
   "cell_type": "code",
   "execution_count": 37,
   "id": "74e9c74f",
   "metadata": {},
   "outputs": [
    {
     "data": {
      "text/plain": [
       "array([[7, 5, 3],\n",
       "       [9, 5, 1]])"
      ]
     },
     "execution_count": 37,
     "metadata": {},
     "output_type": "execute_result"
    }
   ],
   "source": [
    "A[0]"
   ]
  },
  {
   "cell_type": "code",
   "execution_count": 38,
   "id": "8b038d8b",
   "metadata": {},
   "outputs": [
    {
     "data": {
      "text/plain": [
       "2"
      ]
     },
     "execution_count": 38,
     "metadata": {},
     "output_type": "execute_result"
    }
   ],
   "source": [
    "A.shape[0]"
   ]
  },
  {
   "cell_type": "code",
   "execution_count": 39,
   "id": "b4bab9db",
   "metadata": {},
   "outputs": [
    {
     "data": {
      "text/plain": [
       "2"
      ]
     },
     "execution_count": 39,
     "metadata": {},
     "output_type": "execute_result"
    }
   ],
   "source": [
    "A.shape[1]"
   ]
  },
  {
   "cell_type": "code",
   "execution_count": 40,
   "id": "9fe730f7",
   "metadata": {},
   "outputs": [
    {
     "data": {
      "text/plain": [
       "3"
      ]
     },
     "execution_count": 40,
     "metadata": {},
     "output_type": "execute_result"
    }
   ],
   "source": [
    "A.shape[2]"
   ]
  },
  {
   "cell_type": "code",
   "execution_count": 41,
   "id": "f210949d",
   "metadata": {},
   "outputs": [],
   "source": [
    "B = np.array([2])"
   ]
  },
  {
   "cell_type": "code",
   "execution_count": 42,
   "id": "1df5b9e7",
   "metadata": {},
   "outputs": [
    {
     "data": {
      "text/plain": [
       "1"
      ]
     },
     "execution_count": 42,
     "metadata": {},
     "output_type": "execute_result"
    }
   ],
   "source": [
    "B.ndim"
   ]
  },
  {
   "cell_type": "code",
   "execution_count": 43,
   "id": "923bd47c",
   "metadata": {},
   "outputs": [
    {
     "data": {
      "text/plain": [
       "array(5)"
      ]
     },
     "execution_count": 43,
     "metadata": {},
     "output_type": "execute_result"
    }
   ],
   "source": [
    "C = np.array(5)\n",
    "C"
   ]
  },
  {
   "cell_type": "code",
   "execution_count": 44,
   "id": "097111ae",
   "metadata": {},
   "outputs": [
    {
     "data": {
      "text/plain": [
       "0"
      ]
     },
     "execution_count": 44,
     "metadata": {},
     "output_type": "execute_result"
    }
   ],
   "source": [
    "C.ndim"
   ]
  },
  {
   "cell_type": "code",
   "execution_count": 45,
   "id": "1bfd6ca6",
   "metadata": {},
   "outputs": [
    {
     "data": {
      "text/plain": [
       "12"
      ]
     },
     "execution_count": 45,
     "metadata": {},
     "output_type": "execute_result"
    }
   ],
   "source": [
    "A.size     # Total number of element"
   ]
  },
  {
   "cell_type": "code",
   "execution_count": 46,
   "id": "ef9dc14b",
   "metadata": {},
   "outputs": [
    {
     "data": {
      "text/plain": [
       "48"
      ]
     },
     "execution_count": 46,
     "metadata": {},
     "output_type": "execute_result"
    }
   ],
   "source": [
    "A.nbytes    # total no of memory taken by 'A'"
   ]
  },
  {
   "cell_type": "markdown",
   "id": "c14234dd",
   "metadata": {},
   "source": [
    "# NumPy(np.arange,random,reshape)"
   ]
  },
  {
   "cell_type": "code",
   "execution_count": 47,
   "id": "7186383b",
   "metadata": {},
   "outputs": [],
   "source": [
    "S = np.arange(100)"
   ]
  },
  {
   "cell_type": "code",
   "execution_count": 48,
   "id": "13257763",
   "metadata": {},
   "outputs": [
    {
     "name": "stdout",
     "output_type": "stream",
     "text": [
      "[ 0  1  2  3  4  5  6  7  8  9 10 11 12 13 14 15 16 17 18 19 20 21 22 23\n",
      " 24 25 26 27 28 29 30 31 32 33 34 35 36 37 38 39 40 41 42 43 44 45 46 47\n",
      " 48 49 50 51 52 53 54 55 56 57 58 59 60 61 62 63 64 65 66 67 68 69 70 71\n",
      " 72 73 74 75 76 77 78 79 80 81 82 83 84 85 86 87 88 89 90 91 92 93 94 95\n",
      " 96 97 98 99]\n"
     ]
    }
   ],
   "source": [
    "print(S)"
   ]
  },
  {
   "cell_type": "code",
   "execution_count": 49,
   "id": "f7cfb1c0",
   "metadata": {},
   "outputs": [
    {
     "name": "stdout",
     "output_type": "stream",
     "text": [
      "[20 21 22 23 24 25 26 27 28 29 30 31 32 33 34 35 36 37 38 39 40 41 42 43\n",
      " 44 45 46 47 48 49 50 51 52 53 54 55 56 57 58 59 60 61 62 63 64 65 66 67\n",
      " 68 69 70 71 72 73 74 75 76 77 78 79 80 81 82 83 84 85 86 87 88 89 90 91\n",
      " 92 93 94 95 96 97 98 99]\n"
     ]
    }
   ],
   "source": [
    "S = np.arange(20,100)\n",
    "print(S)"
   ]
  },
  {
   "cell_type": "code",
   "execution_count": 50,
   "id": "09d7e28d",
   "metadata": {},
   "outputs": [
    {
     "name": "stdout",
     "output_type": "stream",
     "text": [
      "[10 12 14 16 18 20 22 24 26 28 30 32 34 36 38 40 42 44 46 48 50 52 54 56\n",
      " 58 60 62 64 66 68 70 72 74 76 78 80 82 84 86 88 90 92 94 96 98]\n"
     ]
    }
   ],
   "source": [
    "S = np.arange(10,100,2)\n",
    "print(S)"
   ]
  },
  {
   "cell_type": "code",
   "execution_count": 51,
   "id": "570a4b73",
   "metadata": {},
   "outputs": [
    {
     "name": "stdout",
     "output_type": "stream",
     "text": [
      "0 1 2 3 4 5 6 7 8 9 10 11 12 13 14 15 16 17 18 19 20 21 22 23 24 25 26 27 28 29 30 31 32 33 34 35 36 37 38 39 40 41 42 43 44 45 46 47 48 49 50 51 52 53 54 55 56 57 58 59 60 61 62 63 64 65 66 67 68 69 70 71 72 73 74 75 76 77 78 79 80 81 82 83 84 85 86 87 88 89 90 91 92 93 94 95 96 97 98 99 "
     ]
    }
   ],
   "source": [
    "for i in range(100):\n",
    "    print(i, end=\" \")"
   ]
  },
  {
   "cell_type": "code",
   "execution_count": 259,
   "id": "22ed196d",
   "metadata": {},
   "outputs": [],
   "source": [
    "A = np.random.permutation(10)"
   ]
  },
  {
   "cell_type": "code",
   "execution_count": 260,
   "id": "8d125a85",
   "metadata": {},
   "outputs": [
    {
     "name": "stdout",
     "output_type": "stream",
     "text": [
      "[5 2 0 3 4 7 8 6 9 1]\n"
     ]
    }
   ],
   "source": [
    "print(A)"
   ]
  },
  {
   "cell_type": "code",
   "execution_count": 54,
   "id": "71e2608e",
   "metadata": {},
   "outputs": [],
   "source": [
    "A = np.random.permutation(np.arange(10))"
   ]
  },
  {
   "cell_type": "code",
   "execution_count": 55,
   "id": "7945081b",
   "metadata": {},
   "outputs": [
    {
     "name": "stdout",
     "output_type": "stream",
     "text": [
      "[9 1 0 8 6 5 4 3 7 2]\n"
     ]
    }
   ],
   "source": [
    "print(A)"
   ]
  },
  {
   "cell_type": "code",
   "execution_count": 56,
   "id": "7de1b82f",
   "metadata": {},
   "outputs": [
    {
     "name": "stdout",
     "output_type": "stream",
     "text": [
      "Help on built-in function randint:\n",
      "\n",
      "randint(...) method of numpy.random.mtrand.RandomState instance\n",
      "    randint(low, high=None, size=None, dtype=int)\n",
      "    \n",
      "    Return random integers from `low` (inclusive) to `high` (exclusive).\n",
      "    \n",
      "    Return random integers from the \"discrete uniform\" distribution of\n",
      "    the specified dtype in the \"half-open\" interval [`low`, `high`). If\n",
      "    `high` is None (the default), then results are from [0, `low`).\n",
      "    \n",
      "    .. note::\n",
      "        New code should use the ``integers`` method of a ``default_rng()``\n",
      "        instance instead; please see the :ref:`random-quick-start`.\n",
      "    \n",
      "    Parameters\n",
      "    ----------\n",
      "    low : int or array-like of ints\n",
      "        Lowest (signed) integers to be drawn from the distribution (unless\n",
      "        ``high=None``, in which case this parameter is one above the\n",
      "        *highest* such integer).\n",
      "    high : int or array-like of ints, optional\n",
      "        If provided, one above the largest (signed) integer to be drawn\n",
      "        from the distribution (see above for behavior if ``high=None``).\n",
      "        If array-like, must contain integer values\n",
      "    size : int or tuple of ints, optional\n",
      "        Output shape.  If the given shape is, e.g., ``(m, n, k)``, then\n",
      "        ``m * n * k`` samples are drawn.  Default is None, in which case a\n",
      "        single value is returned.\n",
      "    dtype : dtype, optional\n",
      "        Desired dtype of the result. Byteorder must be native.\n",
      "        The default value is int.\n",
      "    \n",
      "        .. versionadded:: 1.11.0\n",
      "    \n",
      "    Returns\n",
      "    -------\n",
      "    out : int or ndarray of ints\n",
      "        `size`-shaped array of random integers from the appropriate\n",
      "        distribution, or a single such random int if `size` not provided.\n",
      "    \n",
      "    See Also\n",
      "    --------\n",
      "    random_integers : similar to `randint`, only for the closed\n",
      "        interval [`low`, `high`], and 1 is the lowest value if `high` is\n",
      "        omitted.\n",
      "    Generator.integers: which should be used for new code.\n",
      "    \n",
      "    Examples\n",
      "    --------\n",
      "    >>> np.random.randint(2, size=10)\n",
      "    array([1, 0, 0, 0, 1, 1, 0, 0, 1, 0]) # random\n",
      "    >>> np.random.randint(1, size=10)\n",
      "    array([0, 0, 0, 0, 0, 0, 0, 0, 0, 0])\n",
      "    \n",
      "    Generate a 2 x 4 array of ints between 0 and 4, inclusive:\n",
      "    \n",
      "    >>> np.random.randint(5, size=(2, 4))\n",
      "    array([[4, 0, 2, 1], # random\n",
      "           [3, 2, 2, 0]])\n",
      "    \n",
      "    Generate a 1 x 3 array with 3 different upper bounds\n",
      "    \n",
      "    >>> np.random.randint(1, [3, 5, 10])\n",
      "    array([2, 2, 9]) # random\n",
      "    \n",
      "    Generate a 1 by 3 array with 3 different lower bounds\n",
      "    \n",
      "    >>> np.random.randint([1, 5, 7], 10)\n",
      "    array([9, 8, 7]) # random\n",
      "    \n",
      "    Generate a 2 by 4 array using broadcasting with dtype of uint8\n",
      "    \n",
      "    >>> np.random.randint([1, 3, 5, 7], [[10], [20]], dtype=np.uint8)\n",
      "    array([[ 8,  6,  9,  7], # random\n",
      "           [ 1, 16,  9, 12]], dtype=uint8)\n",
      "\n"
     ]
    }
   ],
   "source": [
    "help(np.random.randint)"
   ]
  },
  {
   "cell_type": "code",
   "execution_count": 57,
   "id": "c5b6f4d0",
   "metadata": {},
   "outputs": [
    {
     "name": "stdout",
     "output_type": "stream",
     "text": [
      "37\n"
     ]
    }
   ],
   "source": [
    "B = np.random.randint(20,50)\n",
    "print(B)"
   ]
  },
  {
   "cell_type": "code",
   "execution_count": 58,
   "id": "0e942e6a",
   "metadata": {},
   "outputs": [
    {
     "data": {
      "text/plain": [
       "int"
      ]
     },
     "execution_count": 58,
     "metadata": {},
     "output_type": "execute_result"
    }
   ],
   "source": [
    "type(B)"
   ]
  },
  {
   "cell_type": "code",
   "execution_count": 59,
   "id": "f66ba3ce",
   "metadata": {},
   "outputs": [],
   "source": [
    "import numpy as np"
   ]
  },
  {
   "cell_type": "code",
   "execution_count": 60,
   "id": "2eb13c74",
   "metadata": {},
   "outputs": [
    {
     "name": "stdout",
     "output_type": "stream",
     "text": [
      "[1 1 0 1 1 0 0 1 0 0]\n"
     ]
    }
   ],
   "source": [
    "A = np.random.randint(2,size = 10)\n",
    "print(A)"
   ]
  },
  {
   "cell_type": "code",
   "execution_count": 61,
   "id": "409e6868",
   "metadata": {},
   "outputs": [
    {
     "name": "stdout",
     "output_type": "stream",
     "text": [
      "[0 0 0 0 0 0 0 0 0 0]\n"
     ]
    }
   ],
   "source": [
    "A = np.random.randint(1,size = 10)\n",
    "print(A)"
   ]
  },
  {
   "cell_type": "code",
   "execution_count": 62,
   "id": "706bc03d",
   "metadata": {},
   "outputs": [
    {
     "name": "stdout",
     "output_type": "stream",
     "text": [
      "[[0 4 2 3]\n",
      " [1 1 1 0]\n",
      " [2 4 2 1]]\n"
     ]
    }
   ],
   "source": [
    "A = np.random.randint(5,size = (3,4))\n",
    "print(A)"
   ]
  },
  {
   "cell_type": "code",
   "execution_count": 63,
   "id": "78f31bc5",
   "metadata": {},
   "outputs": [
    {
     "data": {
      "text/plain": [
       "2"
      ]
     },
     "execution_count": 63,
     "metadata": {},
     "output_type": "execute_result"
    }
   ],
   "source": [
    "A.ndim"
   ]
  },
  {
   "cell_type": "code",
   "execution_count": 64,
   "id": "cd5d9a1b",
   "metadata": {},
   "outputs": [
    {
     "name": "stdout",
     "output_type": "stream",
     "text": [
      "[[[1 4]\n",
      "  [4 1]\n",
      "  [3 2]\n",
      "  [4 4]]\n",
      "\n",
      " [[1 3]\n",
      "  [4 0]\n",
      "  [3 0]\n",
      "  [1 0]]\n",
      "\n",
      " [[1 3]\n",
      "  [3 3]\n",
      "  [2 4]\n",
      "  [0 4]]] "
     ]
    }
   ],
   "source": [
    "A = np.random.randint(5,size = (3,4,2))\n",
    "print(A, end=\" \")"
   ]
  },
  {
   "cell_type": "code",
   "execution_count": 65,
   "id": "ba64bf58",
   "metadata": {},
   "outputs": [
    {
     "data": {
      "text/plain": [
       "3"
      ]
     },
     "execution_count": 65,
     "metadata": {},
     "output_type": "execute_result"
    }
   ],
   "source": [
    "A.ndim"
   ]
  },
  {
   "cell_type": "code",
   "execution_count": 66,
   "id": "4eac4431",
   "metadata": {},
   "outputs": [
    {
     "name": "stdout",
     "output_type": "stream",
     "text": [
      "[2 4 8]\n"
     ]
    }
   ],
   "source": [
    "Z = np.random.randint(2, [3, 5, 10])\n",
    "print(Z)"
   ]
  },
  {
   "cell_type": "code",
   "execution_count": 67,
   "id": "c4494651",
   "metadata": {},
   "outputs": [
    {
     "name": "stdout",
     "output_type": "stream",
     "text": [
      "[704 177 713]\n"
     ]
    }
   ],
   "source": [
    "W = np.random.randint([1, 5, 7], 1000)\n",
    "print(W)"
   ]
  },
  {
   "cell_type": "code",
   "execution_count": 68,
   "id": "1b826eff",
   "metadata": {},
   "outputs": [
    {
     "data": {
      "text/plain": [
       "array([[[[0.25313666, 0.18037513],\n",
       "         [0.79169438, 0.17061781],\n",
       "         [0.38249865, 0.60556059],\n",
       "         [0.37213779, 0.06733515]],\n",
       "\n",
       "        [[0.54800594, 0.47911144],\n",
       "         [0.92963901, 0.59368038],\n",
       "         [0.7102673 , 0.42098578],\n",
       "         [0.24448852, 0.7004671 ]],\n",
       "\n",
       "        [[0.0514448 , 0.61522085],\n",
       "         [0.05508003, 0.22061681],\n",
       "         [0.60913564, 0.7139562 ],\n",
       "         [0.54347559, 0.49390381]]],\n",
       "\n",
       "\n",
       "       [[[0.48937384, 0.52127079],\n",
       "         [0.85834102, 0.07306796],\n",
       "         [0.36815944, 0.84839278],\n",
       "         [0.75299024, 0.86047676]],\n",
       "\n",
       "        [[0.20592437, 0.82495391],\n",
       "         [0.42600589, 0.69010422],\n",
       "         [0.96321669, 0.80019246],\n",
       "         [0.60872183, 0.71449997]],\n",
       "\n",
       "        [[0.75659944, 0.43189231],\n",
       "         [0.50759531, 0.83603702],\n",
       "         [0.47922829, 0.5871933 ],\n",
       "         [0.91434711, 0.70735579]]]])"
      ]
     },
     "execution_count": 68,
     "metadata": {},
     "output_type": "execute_result"
    }
   ],
   "source": [
    "np.random.rand(2,3,4,2)"
   ]
  },
  {
   "cell_type": "code",
   "execution_count": 268,
   "id": "193697ed",
   "metadata": {},
   "outputs": [
    {
     "data": {
      "text/plain": [
       "array([[[[0.80753282, 0.14188831],\n",
       "         [0.77579391, 0.71613373],\n",
       "         [0.91511682, 0.72567898],\n",
       "         [0.54481578, 0.06082771]],\n",
       "\n",
       "        [[0.66616962, 0.56418712],\n",
       "         [0.0167332 , 0.75352529],\n",
       "         [0.46377325, 0.12019317],\n",
       "         [0.80380189, 0.15233319]],\n",
       "\n",
       "        [[0.20256486, 0.12875018],\n",
       "         [0.18314699, 0.27608108],\n",
       "         [0.3903984 , 0.85682061],\n",
       "         [0.18455424, 0.7122131 ]]],\n",
       "\n",
       "\n",
       "       [[[0.39026029, 0.59028184],\n",
       "         [0.77920841, 0.82500947],\n",
       "         [0.99882389, 0.66452706],\n",
       "         [0.15660118, 0.46038514]],\n",
       "\n",
       "        [[0.07193059, 0.54439074],\n",
       "         [0.01898438, 0.99754777],\n",
       "         [0.15051489, 0.74537965],\n",
       "         [0.19620523, 0.26783834]],\n",
       "\n",
       "        [[0.72229861, 0.39014934],\n",
       "         [0.23746678, 0.39960002],\n",
       "         [0.38217533, 0.57868008],\n",
       "         [0.04157898, 0.45225527]]]])"
      ]
     },
     "execution_count": 268,
     "metadata": {},
     "output_type": "execute_result"
    }
   ],
   "source": [
    "A = np.random.rand(2,3,4,2)\n",
    "A"
   ]
  },
  {
   "cell_type": "code",
   "execution_count": 69,
   "id": "0b39c497",
   "metadata": {},
   "outputs": [],
   "source": [
    "A = np.random.rand(100)"
   ]
  },
  {
   "cell_type": "code",
   "execution_count": 70,
   "id": "fd100f42",
   "metadata": {},
   "outputs": [
    {
     "data": {
      "text/plain": [
       "array([0.50052514, 0.39704667, 0.67044666, 0.55656515, 0.28997692,\n",
       "       0.62540663, 0.14250574, 0.48323834, 0.05756586, 0.49241678,\n",
       "       0.97674601, 0.43049187, 0.33689582, 0.03687715, 0.56956845,\n",
       "       0.83283081, 0.58442948, 0.56751035, 0.88014778, 0.39554385,\n",
       "       0.80216656, 0.05362638, 0.0025853 , 0.81209938, 0.36868284,\n",
       "       0.88300156, 0.65176932, 0.78783847, 0.19934256, 0.5988308 ,\n",
       "       0.03749218, 0.42715907, 0.02142015, 0.84528126, 0.26182037,\n",
       "       0.22356144, 0.8298035 , 0.59790351, 0.22194182, 0.50303587,\n",
       "       0.99791336, 0.86182491, 0.4217751 , 0.64285713, 0.54957915,\n",
       "       0.9511615 , 0.7096733 , 0.19037557, 0.8941751 , 0.32779162,\n",
       "       0.0960038 , 0.48023907, 0.19442753, 0.4498117 , 0.24313362,\n",
       "       0.76209283, 0.58716973, 0.25364366, 0.53426016, 0.32378937,\n",
       "       0.97774853, 0.54865255, 0.95072374, 0.01894917, 0.18631919,\n",
       "       0.15030082, 0.92376353, 0.85664761, 0.87483076, 0.55575097,\n",
       "       0.83375706, 0.85456688, 0.95619378, 0.98503946, 0.14100605,\n",
       "       0.58403745, 0.82932281, 0.80444506, 0.25179422, 0.93272907,\n",
       "       0.0784755 , 0.10996613, 0.23079599, 0.08833306, 0.68577712,\n",
       "       0.9147952 , 0.22951199, 0.29141774, 0.33968832, 0.68347665,\n",
       "       0.28754474, 0.39210745, 0.74924632, 0.00520295, 0.91136852,\n",
       "       0.02701407, 0.24877425, 0.34423188, 0.76032736, 0.2720221 ])"
      ]
     },
     "execution_count": 70,
     "metadata": {},
     "output_type": "execute_result"
    }
   ],
   "source": [
    "A"
   ]
  },
  {
   "cell_type": "code",
   "execution_count": 274,
   "id": "1f19ba3f",
   "metadata": {},
   "outputs": [
    {
     "data": {
      "text/plain": [
       "array([[3.62208296e-01, 5.16312931e-01, 1.75780182e-01, 4.18152859e-01,\n",
       "        6.20672516e-01, 2.38860251e-01, 1.64217477e-01, 4.49761794e-01],\n",
       "       [6.21073564e-01, 2.77633686e-02, 1.79845139e-01, 8.80649175e-01,\n",
       "        6.25697610e-01, 2.42475347e-01, 2.34301179e-01, 5.76476617e-01],\n",
       "       [3.37442245e-01, 1.90719192e-01, 1.47446246e-01, 5.76166093e-01,\n",
       "        3.22798611e-01, 5.09245878e-01, 9.05343860e-01, 6.45544602e-01],\n",
       "       [8.03350216e-01, 6.30991839e-01, 7.71777901e-01, 8.41936330e-01,\n",
       "        3.15543813e-01, 8.86047868e-01, 1.39796209e-01, 8.27267464e-01],\n",
       "       [4.23658402e-01, 8.70834997e-01, 6.65003700e-01, 2.29859397e-01,\n",
       "        6.26227110e-01, 7.59717110e-01, 9.62799257e-01, 6.68619505e-01],\n",
       "       [1.51437050e-01, 7.30657775e-01, 9.30265177e-01, 1.66560856e-01,\n",
       "        8.61605366e-01, 4.46338541e-01, 8.79669954e-01, 8.01760692e-01],\n",
       "       [7.06396442e-01, 1.63612586e-01, 5.78093856e-01, 4.85567233e-02,\n",
       "        4.36997712e-01, 6.10210130e-02, 2.48344812e-01, 2.17741861e-01],\n",
       "       [2.62841672e-02, 2.75113941e-01, 3.44624219e-01, 8.12526114e-01,\n",
       "        9.05671844e-01, 9.18967750e-01, 6.54415873e-01, 5.79359831e-02],\n",
       "       [9.16588050e-01, 7.52565452e-01, 7.35740918e-01, 9.85207999e-01,\n",
       "        7.18819549e-01, 5.59293545e-01, 2.45403980e-01, 4.61551386e-01],\n",
       "       [3.57364275e-01, 8.44595069e-01, 5.24723365e-02, 8.05676808e-01,\n",
       "        6.23615931e-01, 8.58452272e-01, 4.75655111e-01, 2.11130013e-01],\n",
       "       [2.74845291e-02, 3.20409176e-01, 1.39492317e-01, 6.34550885e-01,\n",
       "        3.38882924e-01, 7.63656902e-01, 8.58898950e-01, 3.07779520e-01],\n",
       "       [6.64186374e-01, 8.23586489e-01, 1.20329031e-01, 6.89220298e-01,\n",
       "        3.93221187e-02, 8.02200446e-01, 2.67500886e-01, 7.28497635e-01],\n",
       "       [3.13899184e-01, 3.88402023e-01, 1.43070819e-01, 5.84002948e-01,\n",
       "        3.56021681e-01, 8.35521951e-01, 5.42533704e-01, 2.78776009e-01],\n",
       "       [2.75231170e-01, 3.57871046e-01, 7.82474697e-01, 5.86383997e-01,\n",
       "        5.45969687e-01, 4.42392572e-02, 5.39913311e-01, 8.78556019e-01],\n",
       "       [8.18859511e-01, 4.43322717e-01, 2.85326032e-01, 1.95775922e-01,\n",
       "        6.28427491e-01, 3.24541156e-01, 6.62662243e-02, 4.00605188e-01],\n",
       "       [2.23048499e-01, 4.20236126e-01, 8.33725028e-01, 1.98419353e-01,\n",
       "        9.16746077e-01, 9.46673139e-01, 9.40495519e-02, 8.92514543e-01],\n",
       "       [5.66315291e-01, 2.55808946e-01, 1.48668330e-01, 9.83137332e-01,\n",
       "        5.89959226e-01, 5.87168551e-01, 6.07688004e-01, 5.85589482e-01],\n",
       "       [5.57568030e-02, 9.43283359e-01, 6.33273837e-01, 5.85119194e-02,\n",
       "        7.80676597e-01, 3.44151192e-01, 3.83960334e-01, 1.13935026e-02],\n",
       "       [1.36465013e-01, 8.43673059e-01, 9.32779351e-02, 1.34748784e-01,\n",
       "        7.89928490e-01, 5.15872281e-01, 6.22573012e-01, 6.29291171e-01],\n",
       "       [3.67472458e-01, 1.11829703e-01, 2.52631646e-01, 3.58398160e-02,\n",
       "        6.48746795e-02, 9.28359675e-01, 1.45597258e-01, 6.82732683e-01],\n",
       "       [6.20532893e-01, 6.38346125e-01, 4.82960992e-01, 9.91170949e-04,\n",
       "        7.02687596e-01, 3.06322715e-01, 5.98419819e-01, 7.75720923e-01],\n",
       "       [5.55680510e-01, 2.33444710e-01, 8.79498545e-02, 3.02429439e-01,\n",
       "        8.54480511e-01, 4.00453744e-01, 2.17076692e-01, 4.36428906e-01],\n",
       "       [8.28056588e-01, 9.48239069e-01, 2.40055697e-01, 7.05545552e-01,\n",
       "        1.00949234e-01, 3.81532903e-01, 8.33047781e-01, 6.31883471e-01],\n",
       "       [5.94359161e-01, 2.20248067e-01, 1.21464573e-02, 4.11331213e-01,\n",
       "        2.38021916e-01, 3.40350916e-01, 4.14599344e-01, 4.13442362e-01],\n",
       "       [3.19790147e-01, 7.76255525e-01, 7.64350140e-01, 5.07053992e-01,\n",
       "        5.64038406e-01, 4.17304659e-01, 8.45005502e-01, 2.31241967e-01],\n",
       "       [1.06909002e-01, 2.30633166e-01, 8.39982446e-01, 2.03509841e-01,\n",
       "        3.89884468e-01, 8.50031307e-02, 6.43094317e-01, 8.99739083e-03],\n",
       "       [1.58387196e-01, 3.02458709e-01, 3.99606610e-01, 2.21142864e-01,\n",
       "        7.05739265e-01, 9.44065156e-01, 9.37261253e-01, 4.06278081e-01],\n",
       "       [4.13231602e-01, 5.92293010e-01, 8.38719922e-01, 8.74400296e-01,\n",
       "        5.81369615e-01, 7.98367628e-02, 4.95663274e-01, 1.80548462e-01],\n",
       "       [8.20324794e-01, 7.42984094e-01, 8.29755995e-01, 4.71380085e-01,\n",
       "        1.67437918e-01, 1.01623380e-01, 5.91637451e-01, 4.32692701e-01],\n",
       "       [2.33385103e-01, 3.84864640e-01, 2.75845276e-02, 4.04836396e-01,\n",
       "        7.49559238e-01, 8.77170677e-01, 2.64885781e-01, 5.06976090e-01],\n",
       "       [2.32579434e-01, 4.64012420e-01, 1.34607319e-01, 7.41191897e-01,\n",
       "        2.03708575e-01, 5.97275463e-02, 5.99162818e-01, 7.72913728e-01],\n",
       "       [7.79207299e-02, 9.42507881e-01, 8.87588554e-02, 6.79618519e-01,\n",
       "        3.79379056e-01, 5.02601376e-01, 3.71863474e-02, 3.90748069e-03],\n",
       "       [2.06438769e-01, 6.01746973e-01, 6.76447106e-01, 5.00737796e-01,\n",
       "        8.69428965e-02, 5.89620440e-01, 8.92891577e-01, 4.82152439e-01],\n",
       "       [7.51647906e-01, 1.21440269e-01, 6.29810057e-01, 1.05242666e-01,\n",
       "        7.68988529e-02, 6.91671445e-01, 1.43796478e-01, 6.17891931e-01],\n",
       "       [6.96066262e-01, 8.30773729e-01, 7.28839665e-01, 4.23644259e-01,\n",
       "        4.01461746e-01, 9.22104429e-01, 7.42075896e-01, 3.36150358e-01],\n",
       "       [3.46731186e-01, 7.34671526e-03, 1.09896929e-01, 6.53424599e-01,\n",
       "        4.55826612e-01, 2.20182597e-01, 8.08291322e-01, 6.38757080e-01],\n",
       "       [6.50299639e-01, 5.93027131e-02, 2.35702191e-01, 7.57532153e-01,\n",
       "        2.99244714e-01, 3.81964138e-01, 8.49575106e-01, 7.82654991e-01],\n",
       "       [8.84066580e-01, 9.85277506e-01, 9.23694336e-01, 3.25548089e-01,\n",
       "        1.34537326e-01, 2.12300654e-01, 9.92010240e-01, 3.93696141e-01],\n",
       "       [3.36798146e-01, 3.26210513e-01, 7.75327089e-01, 8.00292214e-01,\n",
       "        6.19476385e-01, 5.63926163e-01, 4.36966514e-01, 2.38967273e-01],\n",
       "       [1.63877051e-01, 3.13496687e-01, 1.15456401e-03, 4.83051261e-01,\n",
       "        4.60952709e-01, 1.61813722e-01, 3.32668102e-02, 5.31659057e-01],\n",
       "       [2.52508803e-01, 3.66167961e-01, 8.92499693e-01, 4.74726025e-01,\n",
       "        4.64554593e-01, 9.92767455e-01, 9.36690693e-01, 4.78034900e-01],\n",
       "       [1.83098353e-01, 7.75737359e-01, 1.47699114e-01, 9.84208153e-01,\n",
       "        7.90001647e-01, 4.92492186e-01, 7.83722390e-01, 4.53651781e-01],\n",
       "       [4.72652881e-01, 6.30351033e-01, 7.09439314e-01, 9.02784466e-01,\n",
       "        7.43802641e-02, 5.02744345e-02, 7.40622239e-01, 6.38945128e-01],\n",
       "       [9.67007514e-01, 8.07670901e-02, 2.98391578e-01, 9.59123684e-01,\n",
       "        4.14418758e-01, 1.21746052e-01, 9.99632166e-01, 5.96391112e-01],\n",
       "       [6.85530221e-01, 3.49371425e-02, 1.07456450e-01, 1.44496741e-01,\n",
       "        6.67855000e-01, 3.78744504e-01, 3.03030629e-01, 4.91291915e-01],\n",
       "       [6.49145907e-01, 4.80584648e-01, 7.33083478e-02, 2.82239922e-01,\n",
       "        2.24444931e-01, 8.27685573e-01, 2.66349903e-01, 9.10493826e-01],\n",
       "       [8.49033752e-01, 7.70138020e-01, 4.97191769e-02, 9.44929134e-01,\n",
       "        2.60015457e-01, 5.59837033e-01, 6.55650659e-01, 7.95910878e-02],\n",
       "       [4.03378313e-01, 6.39365402e-01, 5.80008810e-01, 9.62249714e-01,\n",
       "        9.72930284e-01, 2.61323013e-01, 9.22997861e-01, 1.71781074e-01],\n",
       "       [3.42654127e-01, 8.66533461e-01, 3.85013070e-02, 1.50592108e-01,\n",
       "        1.94334456e-01, 9.47512032e-01, 5.30530021e-01, 2.91434176e-01],\n",
       "       [4.01724573e-01, 9.49582190e-02, 5.36554566e-01, 4.50938803e-01,\n",
       "        7.87513918e-01, 9.54085906e-01, 3.04040688e-01, 7.59644054e-01],\n",
       "       [5.32622357e-01, 8.44121630e-01, 5.03768668e-01, 7.62954742e-01,\n",
       "        4.08348793e-01, 3.50394521e-01, 5.33682163e-01, 9.05258256e-01],\n",
       "       [7.40660672e-01, 7.07556890e-01, 3.01071321e-01, 5.68253320e-01,\n",
       "        8.95081942e-01, 1.24807919e-01, 1.66092906e-01, 2.73593086e-01],\n",
       "       [6.83852942e-01, 6.40610280e-01, 6.99932424e-01, 9.11114277e-03,\n",
       "        7.99751540e-01, 9.81910285e-01, 9.95459743e-02, 4.20671597e-01],\n",
       "       [1.32169371e-01, 8.87142636e-01, 9.67038882e-01, 6.02491996e-01,\n",
       "        1.39914182e-01, 6.00876342e-01, 5.42982520e-01, 2.44716337e-01],\n",
       "       [3.34532440e-01, 2.13409795e-01, 7.06204611e-01, 3.92952455e-01,\n",
       "        9.30179305e-01, 4.35942458e-01, 2.24817363e-01, 5.18830666e-01],\n",
       "       [4.61526228e-01, 5.14158302e-02, 5.93409218e-03, 5.75021332e-01,\n",
       "        5.93436376e-01, 4.59335149e-01, 7.95181206e-01, 8.80084551e-01],\n",
       "       [4.55152268e-01, 2.83746371e-01, 9.87415175e-01, 7.18557117e-01,\n",
       "        7.75629150e-01, 7.72361427e-01, 9.60488173e-01, 8.83192009e-01],\n",
       "       [6.67035087e-01, 5.52459675e-01, 8.79552316e-01, 7.34765008e-01,\n",
       "        1.38675278e-01, 1.89985945e-01, 8.30896801e-01, 9.55221968e-01],\n",
       "       [6.17043219e-01, 9.51660505e-01, 8.50760880e-01, 9.11745328e-01,\n",
       "        1.72818197e-01, 4.26861560e-01, 6.82493176e-01, 2.62121125e-02],\n",
       "       [8.32689433e-01, 1.02632340e-01, 9.40981884e-01, 9.95925807e-02,\n",
       "        6.91450438e-01, 3.68923054e-01, 6.88143455e-01, 3.07916331e-01],\n",
       "       [6.61238810e-01, 2.22923284e-01, 2.83914455e-01, 1.53452028e-01,\n",
       "        8.91844774e-01, 3.26625406e-01, 6.01873421e-02, 8.01076351e-01],\n",
       "       [5.63714287e-02, 9.95786025e-01, 6.67584537e-01, 8.94090953e-01,\n",
       "        7.66087247e-01, 6.29178457e-01, 4.46026078e-02, 1.41527048e-01],\n",
       "       [1.77749636e-02, 6.55199586e-01, 4.01015318e-01, 1.34648040e-01,\n",
       "        4.88124684e-02, 2.73642761e-01, 2.38006748e-01, 3.58815849e-01],\n",
       "       [5.84833663e-01, 9.23287346e-01, 7.34133232e-01, 8.97086940e-01,\n",
       "        3.02128611e-01, 6.34743942e-01, 9.30031594e-01, 4.34390377e-01],\n",
       "       [4.67291781e-01, 9.17410681e-01, 6.58541860e-01, 3.62384039e-01,\n",
       "        8.79878956e-01, 5.89945802e-01, 7.36871144e-01, 3.69887938e-01],\n",
       "       [4.74344499e-01, 2.06376846e-01, 2.96140336e-01, 3.38942692e-01,\n",
       "        6.18228457e-01, 1.06907742e-02, 9.38985658e-01, 8.13243771e-01],\n",
       "       [1.53789362e-01, 9.83019140e-01, 7.36136023e-01, 8.29389798e-01,\n",
       "        6.03376956e-01, 4.62479625e-01, 1.01883113e-01, 2.24698836e-01],\n",
       "       [8.62945006e-01, 5.97945924e-02, 9.80782667e-01, 3.43696603e-01,\n",
       "        2.12606428e-01, 3.71683312e-01, 6.71700030e-01, 4.88541162e-01],\n",
       "       [4.61414517e-01, 8.87045335e-01, 7.75787270e-01, 8.64798055e-01,\n",
       "        8.81691074e-01, 6.69259554e-01, 8.96979687e-01, 9.98633195e-01],\n",
       "       [5.90793165e-01, 8.49718255e-01, 3.64819100e-01, 1.38115001e-03,\n",
       "        2.78585830e-01, 2.36040587e-01, 9.89145396e-01, 9.11329263e-01],\n",
       "       [5.21915017e-01, 1.75330310e-01, 5.66225086e-01, 7.77900503e-01,\n",
       "        2.56794783e-01, 9.12906649e-02, 7.80608435e-01, 7.83502067e-01],\n",
       "       [1.40342448e-01, 9.57514253e-01, 3.36490378e-01, 9.86236622e-01,\n",
       "        8.33621598e-01, 1.84198950e-01, 5.27360271e-01, 1.32209970e-01],\n",
       "       [5.10686081e-01, 4.54426737e-01, 4.69745291e-01, 2.12444538e-01,\n",
       "        4.70176769e-01, 9.23492048e-02, 3.03499977e-01, 3.66838789e-01],\n",
       "       [8.70323353e-02, 5.18287004e-01, 4.27045203e-01, 8.83762150e-01,\n",
       "        3.29937427e-01, 6.16803127e-01, 8.52221530e-01, 9.45452968e-01],\n",
       "       [1.13419545e-01, 5.70717905e-01, 3.71561090e-01, 5.42539292e-01,\n",
       "        1.73718813e-01, 5.83355269e-02, 1.11848658e-01, 6.89701196e-02],\n",
       "       [5.07004189e-01, 6.44097148e-02, 6.95502444e-01, 9.28883645e-01,\n",
       "        4.15364895e-01, 6.43029495e-02, 5.03667817e-01, 2.15846903e-01],\n",
       "       [5.61060218e-01, 1.27456558e-01, 2.37493278e-01, 6.74230478e-01,\n",
       "        7.65145670e-01, 9.94175756e-01, 9.28812303e-01, 3.45820590e-01],\n",
       "       [5.85704594e-01, 6.26534378e-01, 8.01941266e-01, 7.83183811e-01,\n",
       "        2.13446872e-01, 2.76359422e-02, 8.53075305e-01, 1.25981322e-01],\n",
       "       [2.25681675e-01, 8.59452815e-01, 6.11664100e-01, 7.19602716e-01,\n",
       "        6.62310402e-01, 2.73503967e-01, 4.53698674e-01, 2.86825240e-01],\n",
       "       [6.75093001e-01, 4.13625603e-01, 8.68600373e-01, 2.20373888e-01,\n",
       "        9.79646215e-01, 3.75348744e-01, 8.24999452e-01, 3.79090241e-01],\n",
       "       [8.92883438e-02, 7.35224722e-01, 8.81483954e-01, 9.13071144e-01,\n",
       "        9.33347756e-01, 1.64586235e-01, 7.37586218e-01, 1.03873366e-01],\n",
       "       [7.87164291e-01, 3.64200934e-01, 3.31278140e-01, 4.81183746e-01,\n",
       "        8.74310447e-02, 5.81912652e-01, 2.39195513e-01, 1.05781575e-01],\n",
       "       [6.01330768e-01, 5.35492539e-01, 7.92312698e-01, 4.73673195e-01,\n",
       "        3.17565720e-01, 9.21047807e-01, 1.85854187e-01, 8.41801400e-01],\n",
       "       [3.87961454e-01, 4.10465406e-01, 3.37403225e-01, 9.23216034e-01,\n",
       "        9.58686355e-01, 6.74901343e-01, 6.50692094e-01, 5.73577246e-01],\n",
       "       [1.91146942e-01, 6.39802703e-01, 4.49352903e-01, 9.52210275e-03,\n",
       "        1.96209863e-01, 3.47732751e-03, 4.97865592e-01, 1.78972272e-01],\n",
       "       [9.59291425e-01, 5.74323077e-01, 4.05271407e-01, 5.67509183e-01,\n",
       "        9.62100158e-01, 5.60659621e-01, 1.04283364e-01, 5.38692294e-01],\n",
       "       [8.53298221e-01, 6.70736863e-02, 2.41332364e-01, 6.92149949e-01,\n",
       "        1.67966440e-01, 9.90158859e-01, 5.30801785e-01, 1.02338490e-01],\n",
       "       [5.20807465e-01, 1.35385398e-01, 3.42627461e-01, 1.92425655e-01,\n",
       "        2.47723494e-02, 5.81352524e-02, 8.56666334e-01, 1.88175807e-01],\n",
       "       [8.52841231e-01, 5.01431989e-01, 9.83131909e-01, 8.59469446e-01,\n",
       "        8.47540081e-01, 7.90063474e-01, 1.80600817e-01, 5.95733047e-01],\n",
       "       [8.51630936e-01, 3.59601775e-01, 7.64040586e-01, 2.31015542e-01,\n",
       "        5.36190517e-01, 3.34386247e-01, 8.60982189e-01, 1.89843365e-01],\n",
       "       [6.84551940e-01, 3.82839248e-01, 4.91791615e-01, 4.87081685e-02,\n",
       "        4.31713050e-01, 5.00238356e-01, 7.29043125e-01, 4.61536618e-01],\n",
       "       [6.72607544e-01, 4.01576767e-02, 9.24189450e-01, 6.37653787e-01,\n",
       "        9.21765402e-01, 1.38778258e-01, 7.27545322e-01, 4.17289205e-01],\n",
       "       [1.76537338e-01, 7.61400108e-01, 2.48563872e-01, 5.82454144e-01,\n",
       "        8.92161970e-01, 3.08100160e-01, 4.36915791e-01, 1.66316293e-01],\n",
       "       [3.84257748e-01, 6.14892144e-01, 9.22923848e-01, 2.22432798e-01,\n",
       "        9.49248011e-01, 3.63504606e-01, 4.55342923e-01, 7.65116882e-01],\n",
       "       [4.33723762e-01, 4.26821278e-01, 1.74604561e-01, 3.91949422e-01,\n",
       "        9.94347312e-01, 5.48716639e-01, 7.13854841e-01, 6.85820418e-01],\n",
       "       [8.00906317e-01, 1.44451713e-01, 7.39007470e-01, 7.84815535e-01,\n",
       "        7.41381800e-02, 2.00102809e-01, 1.10370072e-01, 3.59013237e-01],\n",
       "       [6.60819314e-01, 8.12428407e-01, 3.62264079e-02, 7.59694620e-02,\n",
       "        4.00197471e-01, 9.01135310e-01, 5.61778068e-01, 9.42198785e-01],\n",
       "       [7.13899959e-01, 9.51009757e-02, 5.52926667e-01, 2.21704523e-01,\n",
       "        8.91301218e-01, 2.08057190e-01, 8.65582377e-01, 8.61912866e-01],\n",
       "       [9.63996606e-01, 8.42731115e-01, 2.67529239e-01, 5.17137817e-01,\n",
       "        1.91202905e-01, 6.12334339e-01, 8.87731454e-01, 8.14383046e-01],\n",
       "       [9.67501117e-01, 9.72973792e-03, 2.45015612e-02, 1.82958647e-01,\n",
       "        2.88080059e-01, 6.52126746e-01, 9.71904203e-01, 1.11285248e-01]])"
      ]
     },
     "execution_count": 274,
     "metadata": {},
     "output_type": "execute_result"
    }
   ],
   "source": [
    "A1 = np.random.rand(100,8)\n",
    "A1"
   ]
  },
  {
   "cell_type": "code",
   "execution_count": 275,
   "id": "543733c9",
   "metadata": {},
   "outputs": [
    {
     "data": {
      "text/plain": [
       "(100, 8)"
      ]
     },
     "execution_count": 275,
     "metadata": {},
     "output_type": "execute_result"
    }
   ],
   "source": [
    "A1.shape"
   ]
  },
  {
   "cell_type": "code",
   "execution_count": 276,
   "id": "b84ffeb1",
   "metadata": {},
   "outputs": [],
   "source": [
    "z = np.array([[1, 2, 3, 4],\n",
    "         [5, 6, 7, 8],\n",
    "         [9, 10, 11, 12]])"
   ]
  },
  {
   "cell_type": "code",
   "execution_count": 277,
   "id": "c9e5c6a8",
   "metadata": {},
   "outputs": [
    {
     "data": {
      "text/plain": [
       "(3, 4)"
      ]
     },
     "execution_count": 277,
     "metadata": {},
     "output_type": "execute_result"
    }
   ],
   "source": [
    "z.shape"
   ]
  },
  {
   "cell_type": "markdown",
   "id": "958f0ae4",
   "metadata": {},
   "source": [
    "## reshape(-1)"
   ]
  },
  {
   "cell_type": "code",
   "execution_count": 282,
   "id": "8186f312",
   "metadata": {},
   "outputs": [
    {
     "data": {
      "text/plain": [
       "array([ 1,  2,  3,  4,  5,  6,  7,  8,  9, 10, 11, 12])"
      ]
     },
     "execution_count": 282,
     "metadata": {},
     "output_type": "execute_result"
    }
   ],
   "source": [
    "z.reshape(-1)"
   ]
  },
  {
   "cell_type": "code",
   "execution_count": 285,
   "id": "e14bf11d",
   "metadata": {},
   "outputs": [
    {
     "data": {
      "text/plain": [
       "array([[ 1],\n",
       "       [ 2],\n",
       "       [ 3],\n",
       "       [ 4],\n",
       "       [ 5],\n",
       "       [ 6],\n",
       "       [ 7],\n",
       "       [ 8],\n",
       "       [ 9],\n",
       "       [10],\n",
       "       [11],\n",
       "       [12]])"
      ]
     },
     "execution_count": 285,
     "metadata": {},
     "output_type": "execute_result"
    }
   ],
   "source": [
    "z.reshape(-1,1)"
   ]
  },
  {
   "cell_type": "code",
   "execution_count": 290,
   "id": "3eee31c8",
   "metadata": {},
   "outputs": [
    {
     "data": {
      "text/plain": [
       "array([[ 1,  2],\n",
       "       [ 3,  4],\n",
       "       [ 5,  6],\n",
       "       [ 7,  8],\n",
       "       [ 9, 10],\n",
       "       [11, 12]])"
      ]
     },
     "execution_count": 290,
     "metadata": {},
     "output_type": "execute_result"
    }
   ],
   "source": [
    "z.reshape(-1,2)"
   ]
  },
  {
   "cell_type": "markdown",
   "id": "f0d79a60",
   "metadata": {},
   "source": [
    "## Numpy argsort()"
   ]
  },
  {
   "cell_type": "code",
   "execution_count": 293,
   "id": "4efb18ce",
   "metadata": {},
   "outputs": [
    {
     "name": "stdout",
     "output_type": "stream",
     "text": [
      "[2 3 1 0]\n"
     ]
    }
   ],
   "source": [
    "x = np.array([1.48,1.41,0.0,0.1])\n",
    "print(x.argsort())"
   ]
  },
  {
   "cell_type": "code",
   "execution_count": 295,
   "id": "7bc6fa58",
   "metadata": {},
   "outputs": [
    {
     "name": "stdout",
     "output_type": "stream",
     "text": [
      "[0.   0.1  1.41 1.48]\n"
     ]
    }
   ],
   "source": [
    "a = x.argsort()\n",
    "print(x[a])"
   ]
  },
  {
   "cell_type": "code",
   "execution_count": 297,
   "id": "66639072",
   "metadata": {},
   "outputs": [
    {
     "data": {
      "text/plain": [
       "array([3, 4, 0, 2, 1], dtype=int64)"
      ]
     },
     "execution_count": 297,
     "metadata": {},
     "output_type": "execute_result"
    }
   ],
   "source": [
    "array_elements = np.array([16, 7, 8, 45, 29])\n",
    "new_result = array_elements.argsort()[::-1]\n",
    "new_result"
   ]
  },
  {
   "cell_type": "code",
   "execution_count": 298,
   "id": "6e8ed72f",
   "metadata": {},
   "outputs": [
    {
     "data": {
      "text/plain": [
       "array([1, 2, 0, 4], dtype=int64)"
      ]
     },
     "execution_count": 298,
     "metadata": {},
     "output_type": "execute_result"
    }
   ],
   "source": [
    "array_elements.argsort()[:-1]\n"
   ]
  },
  {
   "cell_type": "code",
   "execution_count": 311,
   "id": "e157093c",
   "metadata": {},
   "outputs": [
    {
     "data": {
      "text/plain": [
       "2.366049793212624"
      ]
     },
     "execution_count": 311,
     "metadata": {},
     "output_type": "execute_result"
    }
   ],
   "source": [
    "x=np.random.normal(10,100)\n",
    "#x.mean()\n",
    "u=np.random.normal(loc=3, scale=3, size=(2, 4))\n",
    "u.std()"
   ]
  },
  {
   "cell_type": "code",
   "execution_count": 71,
   "id": "95b58372",
   "metadata": {},
   "outputs": [],
   "source": [
    "import matplotlib.pyplot as plt"
   ]
  },
  {
   "cell_type": "code",
   "execution_count": 72,
   "id": "29db9081",
   "metadata": {},
   "outputs": [
    {
     "data": {
      "text/plain": [
       "(array([12.,  8., 13.,  9.,  7., 14.,  6.,  5., 15., 11.]),\n",
       " array([0.0025853 , 0.1021181 , 0.20165091, 0.30118371, 0.40071652,\n",
       "        0.50024933, 0.59978213, 0.69931494, 0.79884775, 0.89838055,\n",
       "        0.99791336]),\n",
       " <BarContainer object of 10 artists>)"
      ]
     },
     "execution_count": 72,
     "metadata": {},
     "output_type": "execute_result"
    },
    {
     "data": {
      "image/png": "[encoded data removed]",
      "text/plain": [
       "<Figure size 432x288 with 1 Axes>"
      ]
     },
     "metadata": {
      "needs_background": "light"
     },
     "output_type": "display_data"
    }
   ],
   "source": [
    "plt.hist(A)"
   ]
  },
  {
   "cell_type": "code",
   "execution_count": 73,
   "id": "e14095d5",
   "metadata": {},
   "outputs": [
    {
     "data": {
      "text/plain": [
       "(array([4., 3., 2., 1., 2., 1., 1., 2., 0., 4., 0., 4., 4., 2., 3., 0., 4.,\n",
       "        1., 1., 3., 0., 3., 1., 1., 2., 2., 1., 4., 2., 5., 0., 1., 2., 1.,\n",
       "        2., 1., 0., 1., 2., 1., 3., 4., 3., 2., 3., 2., 2., 3., 2., 2.]),\n",
       " array([0.0025853 , 0.02249186, 0.04239842, 0.06230498, 0.08221154,\n",
       "        0.1021181 , 0.12202466, 0.14193122, 0.16183779, 0.18174435,\n",
       "        0.20165091, 0.22155747, 0.24146403, 0.26137059, 0.28127715,\n",
       "        0.30118371, 0.32109028, 0.34099684, 0.3609034 , 0.38080996,\n",
       "        0.40071652, 0.42062308, 0.44052964, 0.46043621, 0.48034277,\n",
       "        0.50024933, 0.52015589, 0.54006245, 0.55996901, 0.57987557,\n",
       "        0.59978213, 0.6196887 , 0.63959526, 0.65950182, 0.67940838,\n",
       "        0.69931494, 0.7192215 , 0.73912806, 0.75903462, 0.77894119,\n",
       "        0.79884775, 0.81875431, 0.83866087, 0.85856743, 0.87847399,\n",
       "        0.89838055, 0.91828711, 0.93819368, 0.95810024, 0.9780068 ,\n",
       "        0.99791336]),\n",
       " <BarContainer object of 50 artists>)"
      ]
     },
     "execution_count": 73,
     "metadata": {},
     "output_type": "execute_result"
    },
    {
     "data": {
      "image/png": "[encoded data removed]",
      "text/plain": [
       "<Figure size 432x288 with 1 Axes>"
      ]
     },
     "metadata": {
      "needs_background": "light"
     },
     "output_type": "display_data"
    }
   ],
   "source": [
    "plt.hist(A,bins=50)"
   ]
  },
  {
   "cell_type": "code",
   "execution_count": 74,
   "id": "f586098c",
   "metadata": {},
   "outputs": [
    {
     "data": {
      "text/plain": [
       "(array([  1.,   0.,   0.,   0.,   0.,   0.,   1.,   1.,   5.,   3.,   2.,\n",
       "          3.,   3.,   3.,   8.,   8.,   9.,  14.,  11.,  20.,  19.,  24.,\n",
       "         28.,  29.,  33.,  43.,  50.,  50.,  65.,  59.,  76., 108.,  88.,\n",
       "        121., 133., 148., 149., 166., 169., 169., 218., 221., 249., 242.,\n",
       "        264., 285., 297., 290., 270., 289., 315., 302., 300., 286., 274.,\n",
       "        273., 298., 298., 259., 233., 253., 229., 219., 214., 212., 161.,\n",
       "        148., 141., 142., 123., 105., 110.,  98.,  83.,  59.,  64.,  58.,\n",
       "         45.,  42.,  26.,  32.,  32.,  21.,  14.,  19.,  18.,  14.,   7.,\n",
       "          4.,   7.,   5.,   4.,   0.,   4.,   0.,   1.,   2.,   1.,   0.,\n",
       "          1.]),\n",
       " array([-3.93631923, -3.8604945 , -3.78466978, -3.70884506, -3.63302034,\n",
       "        -3.55719562, -3.4813709 , -3.40554618, -3.32972146, -3.25389674,\n",
       "        -3.17807202, -3.1022473 , -3.02642258, -2.95059786, -2.87477314,\n",
       "        -2.79894842, -2.7231237 , -2.64729898, -2.57147426, -2.49564954,\n",
       "        -2.41982482, -2.3440001 , -2.26817538, -2.19235066, -2.11652594,\n",
       "        -2.04070122, -1.9648765 , -1.88905177, -1.81322705, -1.73740233,\n",
       "        -1.66157761, -1.58575289, -1.50992817, -1.43410345, -1.35827873,\n",
       "        -1.28245401, -1.20662929, -1.13080457, -1.05497985, -0.97915513,\n",
       "        -0.90333041, -0.82750569, -0.75168097, -0.67585625, -0.60003153,\n",
       "        -0.52420681, -0.44838209, -0.37255737, -0.29673265, -0.22090793,\n",
       "        -0.14508321, -0.06925849,  0.00656623,  0.08239095,  0.15821568,\n",
       "         0.2340404 ,  0.30986512,  0.38568984,  0.46151456,  0.53733928,\n",
       "         0.613164  ,  0.68898872,  0.76481344,  0.84063816,  0.91646288,\n",
       "         0.9922876 ,  1.06811232,  1.14393704,  1.21976176,  1.29558648,\n",
       "         1.3714112 ,  1.44723592,  1.52306064,  1.59888536,  1.67471008,\n",
       "         1.7505348 ,  1.82635952,  1.90218424,  1.97800896,  2.05383368,\n",
       "         2.12965841,  2.20548313,  2.28130785,  2.35713257,  2.43295729,\n",
       "         2.50878201,  2.58460673,  2.66043145,  2.73625617,  2.81208089,\n",
       "         2.88790561,  2.96373033,  3.03955505,  3.11537977,  3.19120449,\n",
       "         3.26702921,  3.34285393,  3.41867865,  3.49450337,  3.57032809,\n",
       "         3.64615281]),\n",
       " <BarContainer object of 100 artists>)"
      ]
     },
     "execution_count": 74,
     "metadata": {},
     "output_type": "execute_result"
    },
    {
     "data": {
      "image/png": "[encoded data removed]",
      "text/plain": [
       "<Figure size 432x288 with 1 Axes>"
      ]
     },
     "metadata": {
      "needs_background": "light"
     },
     "output_type": "display_data"
    }
   ],
   "source": [
    "B = np.random.randn(10000)\n",
    "plt.hist(B, bins=100)"
   ]
  },
  {
   "cell_type": "code",
   "execution_count": 75,
   "id": "1dfc92ed",
   "metadata": {},
   "outputs": [],
   "source": [
    " C = np.random.rand(2,5)"
   ]
  },
  {
   "cell_type": "code",
   "execution_count": 76,
   "id": "972f2968",
   "metadata": {},
   "outputs": [
    {
     "data": {
      "text/plain": [
       "array([[0.41825576, 0.08492888, 0.53166065, 0.04165959, 0.45118728],\n",
       "       [0.26295088, 0.74510322, 0.33316966, 0.55144348, 0.32943255]])"
      ]
     },
     "execution_count": 76,
     "metadata": {},
     "output_type": "execute_result"
    }
   ],
   "source": [
    "C"
   ]
  },
  {
   "cell_type": "code",
   "execution_count": 77,
   "id": "6ce4fe87",
   "metadata": {},
   "outputs": [
    {
     "data": {
      "text/plain": [
       "2"
      ]
     },
     "execution_count": 77,
     "metadata": {},
     "output_type": "execute_result"
    }
   ],
   "source": [
    "C.ndim"
   ]
  },
  {
   "cell_type": "code",
   "execution_count": 78,
   "id": "9dbf29e9",
   "metadata": {},
   "outputs": [
    {
     "data": {
      "text/plain": [
       "array([[[[0.6451829 , 0.64590296],\n",
       "         [0.7826847 , 0.88023276],\n",
       "         [0.88984835, 0.43667112],\n",
       "         [0.78615849, 0.94617577]],\n",
       "\n",
       "        [[0.89906409, 0.98236986],\n",
       "         [0.60321472, 0.31992739],\n",
       "         [0.64023573, 0.30969544],\n",
       "         [0.3083881 , 0.69240793]],\n",
       "\n",
       "        [[0.15686321, 0.86352841],\n",
       "         [0.1892057 , 0.59043658],\n",
       "         [0.22340465, 0.69059889],\n",
       "         [0.43905027, 0.85581663]]],\n",
       "\n",
       "\n",
       "       [[[0.5706526 , 0.26528905],\n",
       "         [0.66776013, 0.88890328],\n",
       "         [0.10553783, 0.52527061],\n",
       "         [0.10473297, 0.1470931 ]],\n",
       "\n",
       "        [[0.23969638, 0.03639465],\n",
       "         [0.45456441, 0.92901192],\n",
       "         [0.45037909, 0.58438391],\n",
       "         [0.95289689, 0.55344858]],\n",
       "\n",
       "        [[0.66610836, 0.92650063],\n",
       "         [0.64077102, 0.83728382],\n",
       "         [0.58888264, 0.96023738],\n",
       "         [0.77644475, 0.20538126]]]])"
      ]
     },
     "execution_count": 78,
     "metadata": {},
     "output_type": "execute_result"
    }
   ],
   "source": [
    "C = np.random.rand(2,3,4,2)\n",
    "C"
   ]
  },
  {
   "cell_type": "code",
   "execution_count": 79,
   "id": "a241f81d",
   "metadata": {},
   "outputs": [
    {
     "data": {
      "text/plain": [
       "0.8990640940042676"
      ]
     },
     "execution_count": 79,
     "metadata": {},
     "output_type": "execute_result"
    }
   ],
   "source": [
    "C[0,1,0,0]"
   ]
  },
  {
   "cell_type": "code",
   "execution_count": 80,
   "id": "39b7e30e",
   "metadata": {},
   "outputs": [
    {
     "data": {
      "text/plain": [
       "(2, 3, 4, 2)"
      ]
     },
     "execution_count": 80,
     "metadata": {},
     "output_type": "execute_result"
    }
   ],
   "source": [
    "C.shape"
   ]
  },
  {
   "cell_type": "code",
   "execution_count": 81,
   "id": "0fc455a0",
   "metadata": {},
   "outputs": [],
   "source": [
    "D = np.arange(100).reshape(4,25)"
   ]
  },
  {
   "cell_type": "code",
   "execution_count": 82,
   "id": "f0481f5c",
   "metadata": {},
   "outputs": [
    {
     "data": {
      "text/plain": [
       "array([[ 0,  1,  2,  3,  4,  5,  6,  7,  8,  9, 10, 11, 12, 13, 14, 15,\n",
       "        16, 17, 18, 19, 20, 21, 22, 23, 24],\n",
       "       [25, 26, 27, 28, 29, 30, 31, 32, 33, 34, 35, 36, 37, 38, 39, 40,\n",
       "        41, 42, 43, 44, 45, 46, 47, 48, 49],\n",
       "       [50, 51, 52, 53, 54, 55, 56, 57, 58, 59, 60, 61, 62, 63, 64, 65,\n",
       "        66, 67, 68, 69, 70, 71, 72, 73, 74],\n",
       "       [75, 76, 77, 78, 79, 80, 81, 82, 83, 84, 85, 86, 87, 88, 89, 90,\n",
       "        91, 92, 93, 94, 95, 96, 97, 98, 99]])"
      ]
     },
     "execution_count": 82,
     "metadata": {},
     "output_type": "execute_result"
    }
   ],
   "source": [
    "D"
   ]
  },
  {
   "cell_type": "code",
   "execution_count": 83,
   "id": "54010de5",
   "metadata": {},
   "outputs": [
    {
     "data": {
      "text/plain": [
       "(4, 25)"
      ]
     },
     "execution_count": 83,
     "metadata": {},
     "output_type": "execute_result"
    }
   ],
   "source": [
    "D.shape"
   ]
  },
  {
   "cell_type": "code",
   "execution_count": 84,
   "id": "479f2b28",
   "metadata": {},
   "outputs": [
    {
     "data": {
      "text/plain": [
       "array([[[ 0,  1,  2,  3,  4],\n",
       "        [ 5,  6,  7,  8,  9],\n",
       "        [10, 11, 12, 13, 14],\n",
       "        [15, 16, 17, 18, 19],\n",
       "        [20, 21, 22, 23, 24]],\n",
       "\n",
       "       [[25, 26, 27, 28, 29],\n",
       "        [30, 31, 32, 33, 34],\n",
       "        [35, 36, 37, 38, 39],\n",
       "        [40, 41, 42, 43, 44],\n",
       "        [45, 46, 47, 48, 49]],\n",
       "\n",
       "       [[50, 51, 52, 53, 54],\n",
       "        [55, 56, 57, 58, 59],\n",
       "        [60, 61, 62, 63, 64],\n",
       "        [65, 66, 67, 68, 69],\n",
       "        [70, 71, 72, 73, 74]],\n",
       "\n",
       "       [[75, 76, 77, 78, 79],\n",
       "        [80, 81, 82, 83, 84],\n",
       "        [85, 86, 87, 88, 89],\n",
       "        [90, 91, 92, 93, 94],\n",
       "        [95, 96, 97, 98, 99]]])"
      ]
     },
     "execution_count": 84,
     "metadata": {},
     "output_type": "execute_result"
    }
   ],
   "source": [
    "D = np.arange(100).reshape(4,5,5)\n",
    "D"
   ]
  },
  {
   "cell_type": "code",
   "execution_count": 85,
   "id": "b424b1c3",
   "metadata": {},
   "outputs": [
    {
     "data": {
      "text/plain": [
       "(4, 5, 5)"
      ]
     },
     "execution_count": 85,
     "metadata": {},
     "output_type": "execute_result"
    }
   ],
   "source": [
    "D.shape"
   ]
  },
  {
   "cell_type": "code",
   "execution_count": 86,
   "id": "8d49a45c",
   "metadata": {},
   "outputs": [
    {
     "name": "stdout",
     "output_type": "stream",
     "text": [
      "Help on built-in function rand:\n",
      "\n",
      "rand(...) method of numpy.random.mtrand.RandomState instance\n",
      "    rand(d0, d1, ..., dn)\n",
      "    \n",
      "    Random values in a given shape.\n",
      "    \n",
      "    .. note::\n",
      "        This is a convenience function for users porting code from Matlab,\n",
      "        and wraps `random_sample`. That function takes a\n",
      "        tuple to specify the size of the output, which is consistent with\n",
      "        other NumPy functions like `numpy.zeros` and `numpy.ones`.\n",
      "    \n",
      "    Create an array of the given shape and populate it with\n",
      "    random samples from a uniform distribution\n",
      "    over ``[0, 1)``.\n",
      "    \n",
      "    Parameters\n",
      "    ----------\n",
      "    d0, d1, ..., dn : int, optional\n",
      "        The dimensions of the returned array, must be non-negative.\n",
      "        If no argument is given a single Python float is returned.\n",
      "    \n",
      "    Returns\n",
      "    -------\n",
      "    out : ndarray, shape ``(d0, d1, ..., dn)``\n",
      "        Random values.\n",
      "    \n",
      "    See Also\n",
      "    --------\n",
      "    random\n",
      "    \n",
      "    Examples\n",
      "    --------\n",
      "    >>> np.random.rand(3,2)\n",
      "    array([[ 0.14022471,  0.96360618],  #random\n",
      "           [ 0.37601032,  0.25528411],  #random\n",
      "           [ 0.49313049,  0.94909878]]) #random\n",
      "\n"
     ]
    }
   ],
   "source": [
    "help(np.random.rand)"
   ]
  },
  {
   "cell_type": "markdown",
   "id": "34d45a3c",
   "metadata": {},
   "source": [
    "# - NumPy(Slicing)"
   ]
  },
  {
   "cell_type": "code",
   "execution_count": 87,
   "id": "5c5520f6",
   "metadata": {},
   "outputs": [],
   "source": [
    "A = np.arange(100)"
   ]
  },
  {
   "cell_type": "code",
   "execution_count": 88,
   "id": "6d003598",
   "metadata": {},
   "outputs": [],
   "source": [
    "B = A[3:10]"
   ]
  },
  {
   "cell_type": "code",
   "execution_count": 89,
   "id": "aee6ecd4",
   "metadata": {},
   "outputs": [
    {
     "data": {
      "text/plain": [
       "array([3, 4, 5, 6, 7, 8, 9])"
      ]
     },
     "execution_count": 89,
     "metadata": {},
     "output_type": "execute_result"
    }
   ],
   "source": [
    "B"
   ]
  },
  {
   "cell_type": "code",
   "execution_count": 90,
   "id": "fef6de39",
   "metadata": {},
   "outputs": [],
   "source": [
    "B[3] = -12000"
   ]
  },
  {
   "cell_type": "code",
   "execution_count": 91,
   "id": "e52eaa6d",
   "metadata": {},
   "outputs": [
    {
     "data": {
      "text/plain": [
       "array([     3,      4,      5, -12000,      7,      8,      9])"
      ]
     },
     "execution_count": 91,
     "metadata": {},
     "output_type": "execute_result"
    }
   ],
   "source": [
    "B"
   ]
  },
  {
   "cell_type": "code",
   "execution_count": 92,
   "id": "ff9ba4ca",
   "metadata": {},
   "outputs": [
    {
     "data": {
      "text/plain": [
       "array([     0,      1,      2,      3,      4,      5, -12000,      7,\n",
       "            8,      9,     10,     11,     12,     13,     14,     15,\n",
       "           16,     17,     18,     19,     20,     21,     22,     23,\n",
       "           24,     25,     26,     27,     28,     29,     30,     31,\n",
       "           32,     33,     34,     35,     36,     37,     38,     39,\n",
       "           40,     41,     42,     43,     44,     45,     46,     47,\n",
       "           48,     49,     50,     51,     52,     53,     54,     55,\n",
       "           56,     57,     58,     59,     60,     61,     62,     63,\n",
       "           64,     65,     66,     67,     68,     69,     70,     71,\n",
       "           72,     73,     74,     75,     76,     77,     78,     79,\n",
       "           80,     81,     82,     83,     84,     85,     86,     87,\n",
       "           88,     89,     90,     91,     92,     93,     94,     95,\n",
       "           96,     97,     98,     99])"
      ]
     },
     "execution_count": 92,
     "metadata": {},
     "output_type": "execute_result"
    }
   ],
   "source": [
    "A"
   ]
  },
  {
   "cell_type": "code",
   "execution_count": 93,
   "id": "e35b6aa3",
   "metadata": {},
   "outputs": [],
   "source": [
    "B[1] = -100"
   ]
  },
  {
   "cell_type": "code",
   "execution_count": 94,
   "id": "8a9223ac",
   "metadata": {},
   "outputs": [
    {
     "data": {
      "text/plain": [
       "array([     0,      1,      2,      3,   -100,      5, -12000,      7,\n",
       "            8,      9,     10,     11,     12,     13,     14,     15,\n",
       "           16,     17,     18,     19,     20,     21,     22,     23,\n",
       "           24,     25,     26,     27,     28,     29,     30,     31,\n",
       "           32,     33,     34,     35,     36,     37,     38,     39,\n",
       "           40,     41,     42,     43,     44,     45,     46,     47,\n",
       "           48,     49,     50,     51,     52,     53,     54,     55,\n",
       "           56,     57,     58,     59,     60,     61,     62,     63,\n",
       "           64,     65,     66,     67,     68,     69,     70,     71,\n",
       "           72,     73,     74,     75,     76,     77,     78,     79,\n",
       "           80,     81,     82,     83,     84,     85,     86,     87,\n",
       "           88,     89,     90,     91,     92,     93,     94,     95,\n",
       "           96,     97,     98,     99])"
      ]
     },
     "execution_count": 94,
     "metadata": {},
     "output_type": "execute_result"
    }
   ],
   "source": [
    "A"
   ]
  },
  {
   "cell_type": "code",
   "execution_count": 95,
   "id": "958425a6",
   "metadata": {},
   "outputs": [
    {
     "data": {
      "text/plain": [
       "array([     3,   -100,      5, -12000,      7,      8,      9])"
      ]
     },
     "execution_count": 95,
     "metadata": {},
     "output_type": "execute_result"
    }
   ],
   "source": [
    "B"
   ]
  },
  {
   "cell_type": "code",
   "execution_count": 96,
   "id": "6f7cf1cd",
   "metadata": {},
   "outputs": [
    {
     "data": {
      "text/plain": [
       "array([  0,   1,   2,   3,   4,   5,   6,   7,   8,   9,  10,  11,  12,\n",
       "        13,  14,  15,  16,  17,  18,  19,  20,  21,  22,  23,  24,  25,\n",
       "        26,  27,  28,  29,  30,  31,  32,  33,  34,  35,  36,  37,  38,\n",
       "        39,  40,  41,  42,  43,  44,  45,  46,  47,  48,  49,  50,  51,\n",
       "        52,  53,  54,  55,  56,  57,  58,  59,  60,  61,  62,  63,  64,\n",
       "        65,  66,  67,  68,  69,  70,  71,  72,  73,  74,  75,  76,  77,\n",
       "        78,  79,  80,  81,  82,  83,  84,  85,  86,  87,  88,  89,  90,\n",
       "        91,  92,  93,  94,  95,  96,  97,  98,  99, 100, 101, 102, 103,\n",
       "       104, 105, 106, 107, 108, 109, 110, 111, 112, 113, 114, 115, 116,\n",
       "       117, 118, 119, 120, 121, 122, 123, 124, 125, 126, 127, 128, 129,\n",
       "       130, 131, 132, 133, 134, 135, 136, 137, 138, 139, 140, 141, 142,\n",
       "       143, 144, 145, 146, 147, 148, 149, 150, 151, 152, 153, 154, 155,\n",
       "       156, 157, 158, 159, 160, 161, 162, 163, 164, 165, 166, 167, 168,\n",
       "       169, 170, 171, 172, 173, 174, 175, 176, 177, 178, 179, 180, 181,\n",
       "       182, 183, 184, 185, 186, 187, 188, 189, 190, 191, 192, 193, 194,\n",
       "       195, 196, 197, 198, 199, 200, 201, 202, 203, 204, 205, 206, 207,\n",
       "       208, 209, 210, 211, 212, 213, 214, 215, 216, 217, 218, 219, 220,\n",
       "       221, 222, 223, 224, 225, 226, 227, 228, 229, 230, 231, 232, 233,\n",
       "       234, 235, 236, 237, 238, 239, 240, 241, 242, 243, 244, 245, 246,\n",
       "       247, 248, 249, 250, 251, 252, 253, 254, 255, 256, 257, 258, 259,\n",
       "       260, 261, 262, 263, 264, 265, 266, 267, 268, 269, 270, 271, 272,\n",
       "       273, 274, 275, 276, 277, 278, 279, 280, 281, 282, 283, 284, 285,\n",
       "       286, 287, 288, 289, 290, 291, 292, 293, 294, 295, 296, 297, 298,\n",
       "       299, 300, 301, 302, 303, 304, 305, 306, 307, 308, 309, 310, 311,\n",
       "       312, 313, 314, 315, 316, 317, 318, 319, 320, 321, 322, 323, 324,\n",
       "       325, 326, 327, 328, 329, 330, 331, 332, 333, 334, 335, 336, 337,\n",
       "       338, 339, 340, 341, 342, 343, 344, 345, 346, 347, 348, 349, 350,\n",
       "       351, 352, 353, 354, 355, 356, 357, 358, 359, 360, 361, 362, 363,\n",
       "       364, 365, 366, 367, 368, 369, 370, 371, 372, 373, 374, 375, 376,\n",
       "       377, 378, 379, 380, 381, 382, 383, 384, 385, 386, 387, 388, 389,\n",
       "       390, 391, 392, 393, 394, 395, 396, 397, 398, 399, 400, 401, 402,\n",
       "       403, 404, 405, 406, 407, 408, 409, 410, 411, 412, 413, 414, 415,\n",
       "       416, 417, 418, 419, 420, 421, 422, 423, 424, 425, 426, 427, 428,\n",
       "       429, 430, 431, 432, 433, 434, 435, 436, 437, 438, 439, 440, 441,\n",
       "       442, 443, 444, 445, 446, 447, 448, 449, 450, 451, 452, 453, 454,\n",
       "       455, 456, 457, 458, 459, 460, 461, 462, 463, 464, 465, 466, 467,\n",
       "       468, 469, 470, 471, 472, 473, 474, 475, 476, 477, 478, 479, 480,\n",
       "       481, 482, 483, 484, 485, 486, 487, 488, 489, 490, 491, 492, 493,\n",
       "       494, 495, 496, 497, 498, 499])"
      ]
     },
     "execution_count": 96,
     "metadata": {},
     "output_type": "execute_result"
    }
   ],
   "source": [
    "a = np.arange(500)\n",
    "a"
   ]
  },
  {
   "cell_type": "code",
   "execution_count": 97,
   "id": "1c356e4a",
   "metadata": {},
   "outputs": [],
   "source": [
    "b = a[5:50].copy()"
   ]
  },
  {
   "cell_type": "code",
   "execution_count": 98,
   "id": "97372110",
   "metadata": {},
   "outputs": [
    {
     "data": {
      "text/plain": [
       "array([ 5,  6,  7,  8,  9, 10, 11, 12, 13, 14, 15, 16, 17, 18, 19, 20, 21,\n",
       "       22, 23, 24, 25, 26, 27, 28, 29, 30, 31, 32, 33, 34, 35, 36, 37, 38,\n",
       "       39, 40, 41, 42, 43, 44, 45, 46, 47, 48, 49])"
      ]
     },
     "execution_count": 98,
     "metadata": {},
     "output_type": "execute_result"
    }
   ],
   "source": [
    "b"
   ]
  },
  {
   "cell_type": "code",
   "execution_count": 99,
   "id": "46f63a7d",
   "metadata": {},
   "outputs": [],
   "source": [
    "b[5] = -9999"
   ]
  },
  {
   "cell_type": "code",
   "execution_count": 100,
   "id": "4c6ae733",
   "metadata": {},
   "outputs": [
    {
     "data": {
      "text/plain": [
       "array([    5,     6,     7,     8,     9, -9999,    11,    12,    13,\n",
       "          14,    15,    16,    17,    18,    19,    20,    21,    22,\n",
       "          23,    24,    25,    26,    27,    28,    29,    30,    31,\n",
       "          32,    33,    34,    35,    36,    37,    38,    39,    40,\n",
       "          41,    42,    43,    44,    45,    46,    47,    48,    49])"
      ]
     },
     "execution_count": 100,
     "metadata": {},
     "output_type": "execute_result"
    }
   ],
   "source": [
    "b"
   ]
  },
  {
   "cell_type": "code",
   "execution_count": 101,
   "id": "1de52784",
   "metadata": {},
   "outputs": [
    {
     "data": {
      "text/plain": [
       "array([  0,   1,   2,   3,   4,   5,   6,   7,   8,   9,  10,  11,  12,\n",
       "        13,  14,  15,  16,  17,  18,  19,  20,  21,  22,  23,  24,  25,\n",
       "        26,  27,  28,  29,  30,  31,  32,  33,  34,  35,  36,  37,  38,\n",
       "        39,  40,  41,  42,  43,  44,  45,  46,  47,  48,  49,  50,  51,\n",
       "        52,  53,  54,  55,  56,  57,  58,  59,  60,  61,  62,  63,  64,\n",
       "        65,  66,  67,  68,  69,  70,  71,  72,  73,  74,  75,  76,  77,\n",
       "        78,  79,  80,  81,  82,  83,  84,  85,  86,  87,  88,  89,  90,\n",
       "        91,  92,  93,  94,  95,  96,  97,  98,  99, 100, 101, 102, 103,\n",
       "       104, 105, 106, 107, 108, 109, 110, 111, 112, 113, 114, 115, 116,\n",
       "       117, 118, 119, 120, 121, 122, 123, 124, 125, 126, 127, 128, 129,\n",
       "       130, 131, 132, 133, 134, 135, 136, 137, 138, 139, 140, 141, 142,\n",
       "       143, 144, 145, 146, 147, 148, 149, 150, 151, 152, 153, 154, 155,\n",
       "       156, 157, 158, 159, 160, 161, 162, 163, 164, 165, 166, 167, 168,\n",
       "       169, 170, 171, 172, 173, 174, 175, 176, 177, 178, 179, 180, 181,\n",
       "       182, 183, 184, 185, 186, 187, 188, 189, 190, 191, 192, 193, 194,\n",
       "       195, 196, 197, 198, 199, 200, 201, 202, 203, 204, 205, 206, 207,\n",
       "       208, 209, 210, 211, 212, 213, 214, 215, 216, 217, 218, 219, 220,\n",
       "       221, 222, 223, 224, 225, 226, 227, 228, 229, 230, 231, 232, 233,\n",
       "       234, 235, 236, 237, 238, 239, 240, 241, 242, 243, 244, 245, 246,\n",
       "       247, 248, 249, 250, 251, 252, 253, 254, 255, 256, 257, 258, 259,\n",
       "       260, 261, 262, 263, 264, 265, 266, 267, 268, 269, 270, 271, 272,\n",
       "       273, 274, 275, 276, 277, 278, 279, 280, 281, 282, 283, 284, 285,\n",
       "       286, 287, 288, 289, 290, 291, 292, 293, 294, 295, 296, 297, 298,\n",
       "       299, 300, 301, 302, 303, 304, 305, 306, 307, 308, 309, 310, 311,\n",
       "       312, 313, 314, 315, 316, 317, 318, 319, 320, 321, 322, 323, 324,\n",
       "       325, 326, 327, 328, 329, 330, 331, 332, 333, 334, 335, 336, 337,\n",
       "       338, 339, 340, 341, 342, 343, 344, 345, 346, 347, 348, 349, 350,\n",
       "       351, 352, 353, 354, 355, 356, 357, 358, 359, 360, 361, 362, 363,\n",
       "       364, 365, 366, 367, 368, 369, 370, 371, 372, 373, 374, 375, 376,\n",
       "       377, 378, 379, 380, 381, 382, 383, 384, 385, 386, 387, 388, 389,\n",
       "       390, 391, 392, 393, 394, 395, 396, 397, 398, 399, 400, 401, 402,\n",
       "       403, 404, 405, 406, 407, 408, 409, 410, 411, 412, 413, 414, 415,\n",
       "       416, 417, 418, 419, 420, 421, 422, 423, 424, 425, 426, 427, 428,\n",
       "       429, 430, 431, 432, 433, 434, 435, 436, 437, 438, 439, 440, 441,\n",
       "       442, 443, 444, 445, 446, 447, 448, 449, 450, 451, 452, 453, 454,\n",
       "       455, 456, 457, 458, 459, 460, 461, 462, 463, 464, 465, 466, 467,\n",
       "       468, 469, 470, 471, 472, 473, 474, 475, 476, 477, 478, 479, 480,\n",
       "       481, 482, 483, 484, 485, 486, 487, 488, 489, 490, 491, 492, 493,\n",
       "       494, 495, 496, 497, 498, 499])"
      ]
     },
     "execution_count": 101,
     "metadata": {},
     "output_type": "execute_result"
    }
   ],
   "source": [
    "a"
   ]
  },
  {
   "cell_type": "code",
   "execution_count": 102,
   "id": "ae696bd3",
   "metadata": {},
   "outputs": [
    {
     "data": {
      "text/plain": [
       "array([  0,  10,  20,  30,  40,  50,  60,  70,  80,  90, 100, 110, 120,\n",
       "       130, 140, 150, 160, 170, 180, 190, 200, 210, 220, 230, 240, 250,\n",
       "       260, 270, 280, 290, 300, 310, 320, 330, 340, 350, 360, 370, 380,\n",
       "       390, 400, 410, 420, 430, 440, 450, 460, 470, 480, 490])"
      ]
     },
     "execution_count": 102,
     "metadata": {},
     "output_type": "execute_result"
    }
   ],
   "source": [
    "a[: : 10]"
   ]
  },
  {
   "cell_type": "code",
   "execution_count": 103,
   "id": "47cfe594",
   "metadata": {},
   "outputs": [
    {
     "data": {
      "text/plain": [
       "array([499, 498, 497, 496, 495, 494, 493, 492, 491, 490, 489, 488, 487,\n",
       "       486, 485, 484, 483, 482, 481, 480, 479, 478, 477, 476, 475, 474,\n",
       "       473, 472, 471, 470, 469, 468, 467, 466, 465, 464, 463, 462, 461,\n",
       "       460, 459, 458, 457, 456, 455, 454, 453, 452, 451, 450, 449, 448,\n",
       "       447, 446, 445, 444, 443, 442, 441, 440, 439, 438, 437, 436, 435,\n",
       "       434, 433, 432, 431, 430, 429, 428, 427, 426, 425, 424, 423, 422,\n",
       "       421, 420, 419, 418, 417, 416, 415, 414, 413, 412, 411, 410, 409,\n",
       "       408, 407, 406, 405, 404, 403, 402, 401, 400, 399, 398, 397, 396,\n",
       "       395, 394, 393, 392, 391, 390, 389, 388, 387, 386, 385, 384, 383,\n",
       "       382, 381, 380, 379, 378, 377, 376, 375, 374, 373, 372, 371, 370,\n",
       "       369, 368, 367, 366, 365, 364, 363, 362, 361, 360, 359, 358, 357,\n",
       "       356, 355, 354, 353, 352, 351, 350, 349, 348, 347, 346, 345, 344,\n",
       "       343, 342, 341, 340, 339, 338, 337, 336, 335, 334, 333, 332, 331,\n",
       "       330, 329, 328, 327, 326, 325, 324, 323, 322, 321, 320, 319, 318,\n",
       "       317, 316, 315, 314, 313, 312, 311, 310, 309, 308, 307, 306, 305,\n",
       "       304, 303, 302, 301, 300, 299, 298, 297, 296, 295, 294, 293, 292,\n",
       "       291, 290, 289, 288, 287, 286, 285, 284, 283, 282, 281, 280, 279,\n",
       "       278, 277, 276, 275, 274, 273, 272, 271, 270, 269, 268, 267, 266,\n",
       "       265, 264, 263, 262, 261, 260, 259, 258, 257, 256, 255, 254, 253,\n",
       "       252, 251, 250, 249, 248, 247, 246, 245, 244, 243, 242, 241, 240,\n",
       "       239, 238, 237, 236, 235, 234, 233, 232, 231, 230, 229, 228, 227,\n",
       "       226, 225, 224, 223, 222, 221, 220, 219, 218, 217, 216, 215, 214,\n",
       "       213, 212, 211, 210, 209, 208, 207, 206, 205, 204, 203, 202, 201,\n",
       "       200, 199, 198, 197, 196, 195, 194, 193, 192, 191, 190, 189, 188,\n",
       "       187, 186, 185, 184, 183, 182, 181, 180, 179, 178, 177, 176, 175,\n",
       "       174, 173, 172, 171, 170, 169, 168, 167, 166, 165, 164, 163, 162,\n",
       "       161, 160, 159, 158, 157, 156, 155, 154, 153, 152, 151, 150, 149,\n",
       "       148, 147, 146, 145, 144, 143, 142, 141, 140, 139, 138, 137, 136,\n",
       "       135, 134, 133, 132, 131, 130, 129, 128, 127, 126, 125, 124, 123,\n",
       "       122, 121, 120, 119, 118, 117, 116, 115, 114, 113, 112, 111, 110,\n",
       "       109, 108, 107, 106, 105, 104, 103, 102, 101, 100,  99,  98,  97,\n",
       "        96,  95,  94,  93,  92,  91,  90,  89,  88,  87,  86,  85,  84,\n",
       "        83,  82,  81,  80,  79,  78,  77,  76,  75,  74,  73,  72,  71,\n",
       "        70,  69,  68,  67,  66,  65,  64,  63,  62,  61,  60,  59,  58,\n",
       "        57,  56,  55,  54,  53,  52,  51,  50,  49,  48,  47,  46,  45,\n",
       "        44,  43,  42,  41,  40,  39,  38,  37,  36,  35,  34,  33,  32,\n",
       "        31,  30,  29,  28,  27,  26,  25,  24,  23,  22,  21,  20,  19,\n",
       "        18,  17,  16,  15,  14,  13,  12,  11,  10,   9,   8,   7,   6,\n",
       "         5,   4,   3,   2,   1,   0])"
      ]
     },
     "execution_count": 103,
     "metadata": {},
     "output_type": "execute_result"
    }
   ],
   "source": [
    "a[::-1]"
   ]
  },
  {
   "cell_type": "code",
   "execution_count": 104,
   "id": "f1ec2bd0",
   "metadata": {},
   "outputs": [
    {
     "data": {
      "text/plain": [
       "array([499, 489, 479, 469, 459, 449, 439, 429, 419, 409, 399, 389, 379,\n",
       "       369, 359, 349, 339, 329, 319, 309, 299, 289, 279, 269, 259, 249,\n",
       "       239, 229, 219, 209, 199, 189, 179, 169, 159, 149, 139, 129, 119,\n",
       "       109,  99,  89,  79,  69,  59,  49,  39,  29,  19,   9])"
      ]
     },
     "execution_count": 104,
     "metadata": {},
     "output_type": "execute_result"
    }
   ],
   "source": [
    "a[::-10]"
   ]
  },
  {
   "cell_type": "code",
   "execution_count": 105,
   "id": "d0fe701d",
   "metadata": {},
   "outputs": [
    {
     "data": {
      "text/plain": [
       "array([     0,      1,      2,      3,   -100,      5, -12000,      7,\n",
       "            8,      9,     10,     11,     12,     13,     14,     15,\n",
       "           16,     17,     18,     19,     20,     21,     22,     23,\n",
       "           24,     25,     26,     27,     28,     29,     30,     31,\n",
       "           32,     33,     34,     35,     36,     37,     38,     39,\n",
       "           40,     41,     42,     43,     44,     45,     46,     47,\n",
       "           48,     49,     50,     51,     52,     53,     54,     55,\n",
       "           56,     57,     58,     59,     60,     61,     62,     63,\n",
       "           64,     65,     66,     67,     68,     69,     70,     71,\n",
       "           72,     73,     74,     75,     76,     77,     78,     79,\n",
       "           80,     81,     82,     83,     84,     85,     86,     87,\n",
       "           88,     89,     90,     91,     92,     93,     94,     95,\n",
       "           96,     97,     98,     99])"
      ]
     },
     "execution_count": 105,
     "metadata": {},
     "output_type": "execute_result"
    }
   ],
   "source": [
    "A"
   ]
  },
  {
   "cell_type": "markdown",
   "id": "b751c700",
   "metadata": {},
   "source": [
    "# How to find index of -12000 in array of A."
   ]
  },
  {
   "cell_type": "code",
   "execution_count": 106,
   "id": "80e5880b",
   "metadata": {},
   "outputs": [],
   "source": [
    "idx = np.argwhere(A == -12000)"
   ]
  },
  {
   "cell_type": "code",
   "execution_count": 107,
   "id": "e3b5e465",
   "metadata": {},
   "outputs": [
    {
     "data": {
      "text/plain": [
       "array([[6]], dtype=int64)"
      ]
     },
     "execution_count": 107,
     "metadata": {},
     "output_type": "execute_result"
    }
   ],
   "source": [
    "idx"
   ]
  },
  {
   "cell_type": "code",
   "execution_count": 108,
   "id": "0bf9ed9d",
   "metadata": {},
   "outputs": [
    {
     "name": "stdout",
     "output_type": "stream",
     "text": [
      "Help on function argwhere in module numpy:\n",
      "\n",
      "argwhere(a)\n",
      "    Find the indices of array elements that are non-zero, grouped by element.\n",
      "    \n",
      "    Parameters\n",
      "    ----------\n",
      "    a : array_like\n",
      "        Input data.\n",
      "    \n",
      "    Returns\n",
      "    -------\n",
      "    index_array : (N, a.ndim) ndarray\n",
      "        Indices of elements that are non-zero. Indices are grouped by element.\n",
      "        This array will have shape ``(N, a.ndim)`` where ``N`` is the number of\n",
      "        non-zero items.\n",
      "    \n",
      "    See Also\n",
      "    --------\n",
      "    where, nonzero\n",
      "    \n",
      "    Notes\n",
      "    -----\n",
      "    ``np.argwhere(a)`` is almost the same as ``np.transpose(np.nonzero(a))``,\n",
      "    but produces a result of the correct shape for a 0D array.\n",
      "    \n",
      "    The output of ``argwhere`` is not suitable for indexing arrays.\n",
      "    For this purpose use ``nonzero(a)`` instead.\n",
      "    \n",
      "    Examples\n",
      "    --------\n",
      "    >>> x = np.arange(6).reshape(2,3)\n",
      "    >>> x\n",
      "    array([[0, 1, 2],\n",
      "           [3, 4, 5]])\n",
      "    >>> np.argwhere(x>1)\n",
      "    array([[0, 2],\n",
      "           [1, 0],\n",
      "           [1, 1],\n",
      "           [1, 2]])\n",
      "\n"
     ]
    }
   ],
   "source": [
    "help(np.argwhere)"
   ]
  },
  {
   "cell_type": "code",
   "execution_count": 109,
   "id": "eb92e54f",
   "metadata": {},
   "outputs": [
    {
     "data": {
      "text/plain": [
       "array([     0,      1,      2,      3,   -100,      5, -12000,      7,\n",
       "            8,      9,     10,     11,     12,     13,     14,     15,\n",
       "           16,     17,     18,     19,     20,     21,     22,     23,\n",
       "           24,     25,     26,     27,     28,     29,     30,     31,\n",
       "           32,     33,     34,     35,     36,     37,     38,     39,\n",
       "           40,     41,     42,     43,     44,     45,     46,     47,\n",
       "           48,     49,     50,     51,     52,     53,     54,     55,\n",
       "           56,     57,     58,     59,     60,     61,     62,     63,\n",
       "           64,     65,     66,     67,     68,     69,     70,     71,\n",
       "           72,     73,     74,     75,     76,     77,     78,     79,\n",
       "           80,     81,     82,     83,     84,     85,     86,     87,\n",
       "           88,     89,     90,     91,     92,     93,     94,     95,\n",
       "           96,     97,     98,     99])"
      ]
     },
     "execution_count": 109,
     "metadata": {},
     "output_type": "execute_result"
    }
   ],
   "source": [
    "A"
   ]
  },
  {
   "cell_type": "code",
   "execution_count": 110,
   "id": "5cacf6f3",
   "metadata": {},
   "outputs": [],
   "source": [
    "idx1 = np.argwhere(A == -12000)[0][0]"
   ]
  },
  {
   "cell_type": "code",
   "execution_count": 111,
   "id": "0f8e8c98",
   "metadata": {},
   "outputs": [
    {
     "data": {
      "text/plain": [
       "6"
      ]
     },
     "execution_count": 111,
     "metadata": {},
     "output_type": "execute_result"
    }
   ],
   "source": [
    "idx1"
   ]
  },
  {
   "cell_type": "code",
   "execution_count": 112,
   "id": "be1e74e4",
   "metadata": {},
   "outputs": [],
   "source": [
    "A[6] = 6"
   ]
  },
  {
   "cell_type": "code",
   "execution_count": 113,
   "id": "dc9aea7a",
   "metadata": {},
   "outputs": [
    {
     "data": {
      "text/plain": [
       "array([   0,    1,    2,    3, -100,    5,    6,    7,    8,    9,   10,\n",
       "         11,   12,   13,   14,   15,   16,   17,   18,   19,   20,   21,\n",
       "         22,   23,   24,   25,   26,   27,   28,   29,   30,   31,   32,\n",
       "         33,   34,   35,   36,   37,   38,   39,   40,   41,   42,   43,\n",
       "         44,   45,   46,   47,   48,   49,   50,   51,   52,   53,   54,\n",
       "         55,   56,   57,   58,   59,   60,   61,   62,   63,   64,   65,\n",
       "         66,   67,   68,   69,   70,   71,   72,   73,   74,   75,   76,\n",
       "         77,   78,   79,   80,   81,   82,   83,   84,   85,   86,   87,\n",
       "         88,   89,   90,   91,   92,   93,   94,   95,   96,   97,   98,\n",
       "         99])"
      ]
     },
     "execution_count": 113,
     "metadata": {},
     "output_type": "execute_result"
    }
   ],
   "source": [
    "A"
   ]
  },
  {
   "cell_type": "code",
   "execution_count": 114,
   "id": "b74d06e6",
   "metadata": {},
   "outputs": [],
   "source": [
    "idx = np.argwhere(A == -100)[0][0]"
   ]
  },
  {
   "cell_type": "code",
   "execution_count": 115,
   "id": "eda537c0",
   "metadata": {},
   "outputs": [
    {
     "data": {
      "text/plain": [
       "4"
      ]
     },
     "execution_count": 115,
     "metadata": {},
     "output_type": "execute_result"
    }
   ],
   "source": [
    "idx"
   ]
  },
  {
   "cell_type": "code",
   "execution_count": 116,
   "id": "5445f13a",
   "metadata": {},
   "outputs": [],
   "source": [
    "A[4] = 4"
   ]
  },
  {
   "cell_type": "code",
   "execution_count": 117,
   "id": "fea4d73b",
   "metadata": {},
   "outputs": [
    {
     "data": {
      "text/plain": [
       "array([ 0,  1,  2,  3,  4,  5,  6,  7,  8,  9, 10, 11, 12, 13, 14, 15, 16,\n",
       "       17, 18, 19, 20, 21, 22, 23, 24, 25, 26, 27, 28, 29, 30, 31, 32, 33,\n",
       "       34, 35, 36, 37, 38, 39, 40, 41, 42, 43, 44, 45, 46, 47, 48, 49, 50,\n",
       "       51, 52, 53, 54, 55, 56, 57, 58, 59, 60, 61, 62, 63, 64, 65, 66, 67,\n",
       "       68, 69, 70, 71, 72, 73, 74, 75, 76, 77, 78, 79, 80, 81, 82, 83, 84,\n",
       "       85, 86, 87, 88, 89, 90, 91, 92, 93, 94, 95, 96, 97, 98, 99])"
      ]
     },
     "execution_count": 117,
     "metadata": {},
     "output_type": "execute_result"
    }
   ],
   "source": [
    "A"
   ]
  },
  {
   "cell_type": "code",
   "execution_count": 118,
   "id": "b02552e7",
   "metadata": {},
   "outputs": [
    {
     "data": {
      "text/plain": [
       "array([[0.80730682, 0.27391222, 0.20113949, 0.67506582],\n",
       "       [0.11567047, 0.56366261, 0.96021607, 0.46777185],\n",
       "       [0.55008892, 0.86288344, 0.79114087, 0.48411183],\n",
       "       [0.62120381, 0.35651708, 0.72574792, 0.04940671],\n",
       "       [0.00235107, 0.64459075, 0.64667763, 0.7318699 ]])"
      ]
     },
     "execution_count": 118,
     "metadata": {},
     "output_type": "execute_result"
    }
   ],
   "source": [
    "B = np.random.rand(5,4)\n",
    "B"
   ]
  },
  {
   "cell_type": "code",
   "execution_count": 119,
   "id": "f674819b",
   "metadata": {},
   "outputs": [
    {
     "data": {
      "text/plain": [
       "array([[ 5.,  6.,  1.,  0.],\n",
       "       [ 4.,  8.,  1.,  8.],\n",
       "       [ 9.,  3., 10.,  1.],\n",
       "       [ 4.,  2.,  2.,  9.],\n",
       "       [ 4.,  2.,  9.,  1.]])"
      ]
     },
     "execution_count": 119,
     "metadata": {},
     "output_type": "execute_result"
    }
   ],
   "source": [
    "B = np.round(10*np.random.rand(5,4))\n",
    "B"
   ]
  },
  {
   "cell_type": "code",
   "execution_count": 120,
   "id": "5c21e4c8",
   "metadata": {},
   "outputs": [
    {
     "data": {
      "text/plain": [
       "1.0"
      ]
     },
     "execution_count": 120,
     "metadata": {},
     "output_type": "execute_result"
    }
   ],
   "source": [
    "B[1,2]"
   ]
  },
  {
   "cell_type": "code",
   "execution_count": 121,
   "id": "fc9cc0f3",
   "metadata": {},
   "outputs": [
    {
     "data": {
      "text/plain": [
       "9.0"
      ]
     },
     "execution_count": 121,
     "metadata": {},
     "output_type": "execute_result"
    }
   ],
   "source": [
    "B[3,3]"
   ]
  },
  {
   "cell_type": "code",
   "execution_count": 122,
   "id": "781d1088",
   "metadata": {},
   "outputs": [
    {
     "data": {
      "text/plain": [
       "array([4., 8., 1., 8.])"
      ]
     },
     "execution_count": 122,
     "metadata": {},
     "output_type": "execute_result"
    }
   ],
   "source": [
    "B[1,:]    # Whole Second Row"
   ]
  },
  {
   "cell_type": "code",
   "execution_count": 123,
   "id": "88913860",
   "metadata": {},
   "outputs": [
    {
     "data": {
      "text/plain": [
       "array([ 1.,  1., 10.,  2.,  9.])"
      ]
     },
     "execution_count": 123,
     "metadata": {},
     "output_type": "execute_result"
    }
   ],
   "source": [
    "B[:,2]     # Whole third coloum"
   ]
  },
  {
   "cell_type": "code",
   "execution_count": 124,
   "id": "dff2df38",
   "metadata": {},
   "outputs": [
    {
     "data": {
      "text/plain": [
       "array([[ 1.,  8.],\n",
       "       [10.,  1.]])"
      ]
     },
     "execution_count": 124,
     "metadata": {},
     "output_type": "execute_result"
    }
   ],
   "source": [
    "B[1:3,2:4]"
   ]
  },
  {
   "cell_type": "code",
   "execution_count": 125,
   "id": "b35e33c9",
   "metadata": {},
   "outputs": [
    {
     "data": {
      "text/plain": [
       "array([[ 5.,  6.,  1.,  0.],\n",
       "       [ 4.,  8.,  1.,  8.],\n",
       "       [ 9.,  3., 10.,  1.],\n",
       "       [ 4.,  2.,  2.,  9.],\n",
       "       [ 4.,  2.,  9.,  1.]])"
      ]
     },
     "execution_count": 125,
     "metadata": {},
     "output_type": "execute_result"
    }
   ],
   "source": [
    "B"
   ]
  },
  {
   "cell_type": "code",
   "execution_count": 126,
   "id": "95ce4757",
   "metadata": {},
   "outputs": [
    {
     "data": {
      "text/plain": [
       "array([[ 5.,  4.,  9.,  4.,  4.],\n",
       "       [ 6.,  8.,  3.,  2.,  2.],\n",
       "       [ 1.,  1., 10.,  2.,  9.],\n",
       "       [ 0.,  8.,  1.,  9.,  1.]])"
      ]
     },
     "execution_count": 126,
     "metadata": {},
     "output_type": "execute_result"
    }
   ],
   "source": [
    "B.T      # Transpose Matrices"
   ]
  },
  {
   "cell_type": "markdown",
   "id": "622568c7",
   "metadata": {},
   "source": [
    "# LinearAlgebra Libraries"
   ]
  },
  {
   "cell_type": "code",
   "execution_count": 127,
   "id": "bb15c21f",
   "metadata": {},
   "outputs": [],
   "source": [
    "import numpy.linalg as la"
   ]
  },
  {
   "cell_type": "code",
   "execution_count": 128,
   "id": "7dcaded6",
   "metadata": {},
   "outputs": [
    {
     "data": {
      "text/plain": [
       "array([[ 0.9933039 ,  2.1174504 , -0.84724164],\n",
       "       [ 1.28498075, -4.90033969,  1.03648579],\n",
       "       [-1.65044242,  1.41332986,  1.08593311]])"
      ]
     },
     "execution_count": 128,
     "metadata": {},
     "output_type": "execute_result"
    }
   ],
   "source": [
    "la.inv(np.random.rand(3,3))"
   ]
  },
  {
   "cell_type": "code",
   "execution_count": 129,
   "id": "293e1b9e",
   "metadata": {},
   "outputs": [
    {
     "name": "stdout",
     "output_type": "stream",
     "text": [
      "Help on function inv in module numpy.linalg:\n",
      "\n",
      "inv(a)\n",
      "    Compute the (multiplicative) inverse of a matrix.\n",
      "    \n",
      "    Given a square matrix `a`, return the matrix `ainv` satisfying\n",
      "    ``dot(a, ainv) = dot(ainv, a) = eye(a.shape[0])``.\n",
      "    \n",
      "    Parameters\n",
      "    ----------\n",
      "    a : (..., M, M) array_like\n",
      "        Matrix to be inverted.\n",
      "    \n",
      "    Returns\n",
      "    -------\n",
      "    ainv : (..., M, M) ndarray or matrix\n",
      "        (Multiplicative) inverse of the matrix `a`.\n",
      "    \n",
      "    Raises\n",
      "    ------\n",
      "    LinAlgError\n",
      "        If `a` is not square or inversion fails.\n",
      "    \n",
      "    See Also\n",
      "    --------\n",
      "    scipy.linalg.inv : Similar function in SciPy.\n",
      "    \n",
      "    Notes\n",
      "    -----\n",
      "    \n",
      "    .. versionadded:: 1.8.0\n",
      "    \n",
      "    Broadcasting rules apply, see the `numpy.linalg` documentation for\n",
      "    details.\n",
      "    \n",
      "    Examples\n",
      "    --------\n",
      "    >>> from numpy.linalg import inv\n",
      "    >>> a = np.array([[1., 2.], [3., 4.]])\n",
      "    >>> ainv = inv(a)\n",
      "    >>> np.allclose(np.dot(a, ainv), np.eye(2))\n",
      "    True\n",
      "    >>> np.allclose(np.dot(ainv, a), np.eye(2))\n",
      "    True\n",
      "    \n",
      "    If a is a matrix object, then the return value is a matrix as well:\n",
      "    \n",
      "    >>> ainv = inv(np.matrix(a))\n",
      "    >>> ainv\n",
      "    matrix([[-2. ,  1. ],\n",
      "            [ 1.5, -0.5]])\n",
      "    \n",
      "    Inverses of several matrices can be computed at once:\n",
      "    \n",
      "    >>> a = np.array([[[1., 2.], [3., 4.]], [[1, 3], [3, 5]]])\n",
      "    >>> inv(a)\n",
      "    array([[[-2.  ,  1.  ],\n",
      "            [ 1.5 , -0.5 ]],\n",
      "           [[-1.25,  0.75],\n",
      "            [ 0.75, -0.25]]])\n",
      "\n"
     ]
    }
   ],
   "source": [
    "help(la.inv)"
   ]
  },
  {
   "cell_type": "code",
   "execution_count": 130,
   "id": "65389809",
   "metadata": {},
   "outputs": [
    {
     "data": {
      "text/plain": [
       "array([ 0,  1,  2,  3,  4,  5,  6,  7,  8,  9, 10, 11, 12, 13, 14, 15, 16,\n",
       "       17, 18, 19, 20, 21, 22, 23, 24, 25, 26, 27, 28, 29, 30, 31, 32, 33,\n",
       "       34, 35, 36, 37, 38, 39, 40, 41, 42, 43, 44, 45, 46, 47, 48, 49, 50,\n",
       "       51, 52, 53, 54, 55, 56, 57, 58, 59, 60, 61, 62, 63, 64, 65, 66, 67,\n",
       "       68, 69, 70, 71, 72, 73, 74, 75, 76, 77, 78, 79, 80, 81, 82, 83, 84,\n",
       "       85, 86, 87, 88, 89, 90, 91, 92, 93, 94, 95, 96, 97, 98, 99])"
      ]
     },
     "execution_count": 130,
     "metadata": {},
     "output_type": "execute_result"
    }
   ],
   "source": [
    "A"
   ]
  },
  {
   "cell_type": "code",
   "execution_count": 131,
   "id": "1eaadc6d",
   "metadata": {},
   "outputs": [
    {
     "data": {
      "text/plain": [
       "array([[ 5.,  6.,  1.,  0.],\n",
       "       [ 4.,  8.,  1.,  8.],\n",
       "       [ 9.,  3., 10.,  1.],\n",
       "       [ 4.,  2.,  2.,  9.],\n",
       "       [ 4.,  2.,  9.,  1.]])"
      ]
     },
     "execution_count": 131,
     "metadata": {},
     "output_type": "execute_result"
    }
   ],
   "source": [
    "B"
   ]
  },
  {
   "cell_type": "code",
   "execution_count": 132,
   "id": "38ef390a",
   "metadata": {},
   "outputs": [],
   "source": [
    "B.sort(axis=0)    # Sort Column individually"
   ]
  },
  {
   "cell_type": "code",
   "execution_count": 133,
   "id": "78d7e7bb",
   "metadata": {},
   "outputs": [
    {
     "data": {
      "text/plain": [
       "array([[ 4.,  2.,  1.,  0.],\n",
       "       [ 4.,  2.,  1.,  1.],\n",
       "       [ 4.,  3.,  2.,  1.],\n",
       "       [ 5.,  6.,  9.,  8.],\n",
       "       [ 9.,  8., 10.,  9.]])"
      ]
     },
     "execution_count": 133,
     "metadata": {},
     "output_type": "execute_result"
    }
   ],
   "source": [
    "B"
   ]
  },
  {
   "cell_type": "code",
   "execution_count": 134,
   "id": "f15e8b43",
   "metadata": {},
   "outputs": [],
   "source": [
    "B.sort(axis=1)     # sort Row Individually"
   ]
  },
  {
   "cell_type": "code",
   "execution_count": 135,
   "id": "d7a0e0cd",
   "metadata": {},
   "outputs": [
    {
     "data": {
      "text/plain": [
       "array([[ 0.,  1.,  2.,  4.],\n",
       "       [ 1.,  1.,  2.,  4.],\n",
       "       [ 1.,  2.,  3.,  4.],\n",
       "       [ 5.,  6.,  8.,  9.],\n",
       "       [ 8.,  9.,  9., 10.]])"
      ]
     },
     "execution_count": 135,
     "metadata": {},
     "output_type": "execute_result"
    }
   ],
   "source": [
    "B"
   ]
  },
  {
   "cell_type": "markdown",
   "id": "3f0d6245",
   "metadata": {},
   "source": [
    "# NumPy( More Indexing )"
   ]
  },
  {
   "cell_type": "code",
   "execution_count": 136,
   "id": "0b1ae214",
   "metadata": {},
   "outputs": [],
   "source": [
    "A = np.arange(100)"
   ]
  },
  {
   "cell_type": "code",
   "execution_count": 137,
   "id": "00650dd8",
   "metadata": {},
   "outputs": [],
   "source": [
    "B = A[[3,5,6]]"
   ]
  },
  {
   "cell_type": "code",
   "execution_count": 138,
   "id": "3d3fb151",
   "metadata": {},
   "outputs": [
    {
     "data": {
      "text/plain": [
       "array([3, 5, 6])"
      ]
     },
     "execution_count": 138,
     "metadata": {},
     "output_type": "execute_result"
    }
   ],
   "source": [
    "B"
   ]
  },
  {
   "cell_type": "code",
   "execution_count": 139,
   "id": "e0b511e9",
   "metadata": {},
   "outputs": [],
   "source": [
    "B[0]= -4"
   ]
  },
  {
   "cell_type": "code",
   "execution_count": 140,
   "id": "c5f622b0",
   "metadata": {},
   "outputs": [
    {
     "data": {
      "text/plain": [
       "array([-4,  5,  6])"
      ]
     },
     "execution_count": 140,
     "metadata": {},
     "output_type": "execute_result"
    }
   ],
   "source": [
    "B"
   ]
  },
  {
   "cell_type": "code",
   "execution_count": 141,
   "id": "7092a80f",
   "metadata": {},
   "outputs": [
    {
     "data": {
      "text/plain": [
       "array([ 0,  1,  2,  3,  4,  5,  6,  7,  8,  9, 10, 11, 12, 13, 14, 15, 16,\n",
       "       17, 18, 19, 20, 21, 22, 23, 24, 25, 26, 27, 28, 29, 30, 31, 32, 33,\n",
       "       34, 35, 36, 37, 38, 39, 40, 41, 42, 43, 44, 45, 46, 47, 48, 49, 50,\n",
       "       51, 52, 53, 54, 55, 56, 57, 58, 59, 60, 61, 62, 63, 64, 65, 66, 67,\n",
       "       68, 69, 70, 71, 72, 73, 74, 75, 76, 77, 78, 79, 80, 81, 82, 83, 84,\n",
       "       85, 86, 87, 88, 89, 90, 91, 92, 93, 94, 95, 96, 97, 98, 99])"
      ]
     },
     "execution_count": 141,
     "metadata": {},
     "output_type": "execute_result"
    }
   ],
   "source": [
    "A"
   ]
  },
  {
   "cell_type": "code",
   "execution_count": 142,
   "id": "dfcd3d80",
   "metadata": {},
   "outputs": [],
   "source": [
    "B = A[A<40]"
   ]
  },
  {
   "cell_type": "code",
   "execution_count": 143,
   "id": "1ad4aac0",
   "metadata": {},
   "outputs": [
    {
     "data": {
      "text/plain": [
       "array([ 0,  1,  2,  3,  4,  5,  6,  7,  8,  9, 10, 11, 12, 13, 14, 15, 16,\n",
       "       17, 18, 19, 20, 21, 22, 23, 24, 25, 26, 27, 28, 29, 30, 31, 32, 33,\n",
       "       34, 35, 36, 37, 38, 39])"
      ]
     },
     "execution_count": 143,
     "metadata": {},
     "output_type": "execute_result"
    }
   ],
   "source": [
    "B"
   ]
  },
  {
   "cell_type": "code",
   "execution_count": 144,
   "id": "e12867dd",
   "metadata": {},
   "outputs": [],
   "source": [
    "B = A[(A<40) & (A>30)]"
   ]
  },
  {
   "cell_type": "code",
   "execution_count": 145,
   "id": "9cfacb82",
   "metadata": {},
   "outputs": [
    {
     "data": {
      "text/plain": [
       "array([31, 32, 33, 34, 35, 36, 37, 38, 39])"
      ]
     },
     "execution_count": 145,
     "metadata": {},
     "output_type": "execute_result"
    }
   ],
   "source": [
    "B"
   ]
  },
  {
   "cell_type": "code",
   "execution_count": 146,
   "id": "11b48a88",
   "metadata": {},
   "outputs": [],
   "source": [
    "AA = np.arange(2).reshape(2,1)"
   ]
  },
  {
   "cell_type": "code",
   "execution_count": 147,
   "id": "2ea61c7f",
   "metadata": {},
   "outputs": [
    {
     "data": {
      "text/plain": [
       "array([[0],\n",
       "       [1]])"
      ]
     },
     "execution_count": 147,
     "metadata": {},
     "output_type": "execute_result"
    }
   ],
   "source": [
    "AA"
   ]
  },
  {
   "cell_type": "markdown",
   "id": "cd8d8cd2",
   "metadata": {},
   "source": [
    "# NumPy(Broadcasting)"
   ]
  },
  {
   "cell_type": "code",
   "execution_count": 148,
   "id": "91b2264a",
   "metadata": {},
   "outputs": [],
   "source": [
    "A = np.round(10*np.random.rand(2,3))"
   ]
  },
  {
   "cell_type": "code",
   "execution_count": 149,
   "id": "51890448",
   "metadata": {},
   "outputs": [
    {
     "data": {
      "text/plain": [
       "array([[7., 1., 9.],\n",
       "       [5., 1., 5.]])"
      ]
     },
     "execution_count": 149,
     "metadata": {},
     "output_type": "execute_result"
    }
   ],
   "source": [
    "A"
   ]
  },
  {
   "cell_type": "code",
   "execution_count": 150,
   "id": "613d525f",
   "metadata": {},
   "outputs": [],
   "source": [
    "A = A+5"
   ]
  },
  {
   "cell_type": "code",
   "execution_count": 151,
   "id": "1b07f629",
   "metadata": {},
   "outputs": [
    {
     "data": {
      "text/plain": [
       "array([[12.,  6., 14.],\n",
       "       [10.,  6., 10.]])"
      ]
     },
     "execution_count": 151,
     "metadata": {},
     "output_type": "execute_result"
    }
   ],
   "source": [
    "A"
   ]
  },
  {
   "cell_type": "code",
   "execution_count": 152,
   "id": "b8bb3c71",
   "metadata": {},
   "outputs": [
    {
     "data": {
      "text/plain": [
       "array([[12.,  6., 14.],\n",
       "       [11.,  7., 11.]])"
      ]
     },
     "execution_count": 152,
     "metadata": {},
     "output_type": "execute_result"
    }
   ],
   "source": [
    "A + np.arange(2).reshape(2,1)"
   ]
  },
  {
   "cell_type": "markdown",
   "id": "8d5648b5",
   "metadata": {},
   "source": [
    "# NumPy( hstack,vstack,sort(axis=0) )"
   ]
  },
  {
   "cell_type": "code",
   "execution_count": 153,
   "id": "2ef0bca5",
   "metadata": {},
   "outputs": [],
   "source": [
    "B = np.round(10*np.random.rand(2,2))"
   ]
  },
  {
   "cell_type": "code",
   "execution_count": 154,
   "id": "cae5d0f8",
   "metadata": {},
   "outputs": [
    {
     "data": {
      "text/plain": [
       "array([[9., 0.],\n",
       "       [5., 7.]])"
      ]
     },
     "execution_count": 154,
     "metadata": {},
     "output_type": "execute_result"
    }
   ],
   "source": [
    "B"
   ]
  },
  {
   "cell_type": "code",
   "execution_count": 155,
   "id": "a7afcbc6",
   "metadata": {},
   "outputs": [
    {
     "data": {
      "text/plain": [
       "array([[12.,  6., 14.],\n",
       "       [10.,  6., 10.]])"
      ]
     },
     "execution_count": 155,
     "metadata": {},
     "output_type": "execute_result"
    }
   ],
   "source": [
    "A"
   ]
  },
  {
   "cell_type": "code",
   "execution_count": 156,
   "id": "9c740b71",
   "metadata": {},
   "outputs": [],
   "source": [
    "C = np.hstack((A,B))"
   ]
  },
  {
   "cell_type": "code",
   "execution_count": 157,
   "id": "1f9c65fe",
   "metadata": {},
   "outputs": [
    {
     "data": {
      "text/plain": [
       "array([[12.,  6., 14.,  9.,  0.],\n",
       "       [10.,  6., 10.,  5.,  7.]])"
      ]
     },
     "execution_count": 157,
     "metadata": {},
     "output_type": "execute_result"
    }
   ],
   "source": [
    "C"
   ]
  },
  {
   "cell_type": "code",
   "execution_count": 158,
   "id": "76a741e1",
   "metadata": {},
   "outputs": [],
   "source": [
    "A = np.random.permutation(np.arange(10))"
   ]
  },
  {
   "cell_type": "code",
   "execution_count": 159,
   "id": "1ec9e64f",
   "metadata": {},
   "outputs": [
    {
     "data": {
      "text/plain": [
       "array([4, 6, 7, 8, 0, 5, 9, 3, 2, 1])"
      ]
     },
     "execution_count": 159,
     "metadata": {},
     "output_type": "execute_result"
    }
   ],
   "source": [
    "A"
   ]
  },
  {
   "cell_type": "code",
   "execution_count": 160,
   "id": "fac9e4ed",
   "metadata": {},
   "outputs": [],
   "source": [
    "A.sort()"
   ]
  },
  {
   "cell_type": "code",
   "execution_count": 161,
   "id": "ef9dd25d",
   "metadata": {},
   "outputs": [
    {
     "data": {
      "text/plain": [
       "array([0, 1, 2, 3, 4, 5, 6, 7, 8, 9])"
      ]
     },
     "execution_count": 161,
     "metadata": {},
     "output_type": "execute_result"
    }
   ],
   "source": [
    "A"
   ]
  },
  {
   "cell_type": "code",
   "execution_count": 162,
   "id": "5ec9574b",
   "metadata": {},
   "outputs": [
    {
     "name": "stdout",
     "output_type": "stream",
     "text": [
      "Help on built-in function array in module numpy:\n",
      "\n",
      "array(...)\n",
      "    array(object, dtype=None, *, copy=True, order='K', subok=False, ndmin=0,\n",
      "          like=None)\n",
      "    \n",
      "    Create an array.\n",
      "    \n",
      "    Parameters\n",
      "    ----------\n",
      "    object : array_like\n",
      "        An array, any object exposing the array interface, an object whose\n",
      "        __array__ method returns an array, or any (nested) sequence.\n",
      "    dtype : data-type, optional\n",
      "        The desired data-type for the array.  If not given, then the type will\n",
      "        be determined as the minimum type required to hold the objects in the\n",
      "        sequence.\n",
      "    copy : bool, optional\n",
      "        If true (default), then the object is copied.  Otherwise, a copy will\n",
      "        only be made if __array__ returns a copy, if obj is a nested sequence,\n",
      "        or if a copy is needed to satisfy any of the other requirements\n",
      "        (`dtype`, `order`, etc.).\n",
      "    order : {'K', 'A', 'C', 'F'}, optional\n",
      "        Specify the memory layout of the array. If object is not an array, the\n",
      "        newly created array will be in C order (row major) unless 'F' is\n",
      "        specified, in which case it will be in Fortran order (column major).\n",
      "        If object is an array the following holds.\n",
      "    \n",
      "        ===== ========= ===================================================\n",
      "        order  no copy                     copy=True\n",
      "        ===== ========= ===================================================\n",
      "        'K'   unchanged F & C order preserved, otherwise most similar order\n",
      "        'A'   unchanged F order if input is F and not C, otherwise C order\n",
      "        'C'   C order   C order\n",
      "        'F'   F order   F order\n",
      "        ===== ========= ===================================================\n",
      "    \n",
      "        When ``copy=False`` and a copy is made for other reasons, the result is\n",
      "        the same as if ``copy=True``, with some exceptions for `A`, see the\n",
      "        Notes section. The default order is 'K'.\n",
      "    subok : bool, optional\n",
      "        If True, then sub-classes will be passed-through, otherwise\n",
      "        the returned array will be forced to be a base-class array (default).\n",
      "    ndmin : int, optional\n",
      "        Specifies the minimum number of dimensions that the resulting\n",
      "        array should have.  Ones will be pre-pended to the shape as\n",
      "        needed to meet this requirement.\n",
      "    like : array_like\n",
      "        Reference object to allow the creation of arrays which are not\n",
      "        NumPy arrays. If an array-like passed in as ``like`` supports\n",
      "        the ``__array_function__`` protocol, the result will be defined\n",
      "        by it. In this case, it ensures the creation of an array object\n",
      "        compatible with that passed in via this argument.\n",
      "    \n",
      "        .. note::\n",
      "            The ``like`` keyword is an experimental feature pending on\n",
      "            acceptance of :ref:`NEP 35 <NEP35>`.\n",
      "    \n",
      "        .. versionadded:: 1.20.0\n",
      "    \n",
      "    Returns\n",
      "    -------\n",
      "    out : ndarray\n",
      "        An array object satisfying the specified requirements.\n",
      "    \n",
      "    See Also\n",
      "    --------\n",
      "    empty_like : Return an empty array with shape and type of input.\n",
      "    ones_like : Return an array of ones with shape and type of input.\n",
      "    zeros_like : Return an array of zeros with shape and type of input.\n",
      "    full_like : Return a new array with shape of input filled with value.\n",
      "    empty : Return a new uninitialized array.\n",
      "    ones : Return a new array setting values to one.\n",
      "    zeros : Return a new array setting values to zero.\n",
      "    full : Return a new array of given shape filled with value.\n",
      "    \n",
      "    \n",
      "    Notes\n",
      "    -----\n",
      "    When order is 'A' and `object` is an array in neither 'C' nor 'F' order,\n",
      "    and a copy is forced by a change in dtype, then the order of the result is\n",
      "    not necessarily 'C' as expected. This is likely a bug.\n",
      "    \n",
      "    Examples\n",
      "    --------\n",
      "    >>> np.array([1, 2, 3])\n",
      "    array([1, 2, 3])\n",
      "    \n",
      "    Upcasting:\n",
      "    \n",
      "    >>> np.array([1, 2, 3.0])\n",
      "    array([ 1.,  2.,  3.])\n",
      "    \n",
      "    More than one dimension:\n",
      "    \n",
      "    >>> np.array([[1, 2], [3, 4]])\n",
      "    array([[1, 2],\n",
      "           [3, 4]])\n",
      "    \n",
      "    Minimum dimensions 2:\n",
      "    \n",
      "    >>> np.array([1, 2, 3], ndmin=2)\n",
      "    array([[1, 2, 3]])\n",
      "    \n",
      "    Type provided:\n",
      "    \n",
      "    >>> np.array([1, 2, 3], dtype=complex)\n",
      "    array([ 1.+0.j,  2.+0.j,  3.+0.j])\n",
      "    \n",
      "    Data-type consisting of more than one element:\n",
      "    \n",
      "    >>> x = np.array([(1,2),(3,4)],dtype=[('a','<i4'),('b','<i4')])\n",
      "    >>> x['a']\n",
      "    array([1, 3])\n",
      "    \n",
      "    Creating an array from sub-classes:\n",
      "    \n",
      "    >>> np.array(np.mat('1 2; 3 4'))\n",
      "    array([[1, 2],\n",
      "           [3, 4]])\n",
      "    \n",
      "    >>> np.array(np.mat('1 2; 3 4'), subok=True)\n",
      "    matrix([[1, 2],\n",
      "            [3, 4]])\n",
      "\n"
     ]
    }
   ],
   "source": [
    "help(np.array)"
   ]
  },
  {
   "cell_type": "markdown",
   "id": "4211db3c",
   "metadata": {},
   "source": [
    "# NumPy( speed )"
   ]
  },
  {
   "cell_type": "code",
   "execution_count": 163,
   "id": "0814daba",
   "metadata": {},
   "outputs": [
    {
     "name": "stdout",
     "output_type": "stream",
     "text": [
      "20.4 ms ± 3.65 ms per loop (mean ± std. dev. of 7 runs, 100 loops each)\n",
      "89.2 µs ± 9.88 µs per loop (mean ± std. dev. of 7 runs, 10000 loops each)\n"
     ]
    }
   ],
   "source": [
    "S = np.random.rand(100000)\n",
    "%timeit sum(S)\n",
    "%timeit np.sum(S)   # Much Much faster than list."
   ]
  },
  {
   "cell_type": "code",
   "execution_count": 164,
   "id": "10ff9dc8",
   "metadata": {},
   "outputs": [],
   "source": [
    "def mySum(G):\n",
    "    s=0\n",
    "    for x in G:\n",
    "        s+=x\n",
    "    return s\n",
    "        \n",
    "        "
   ]
  },
  {
   "cell_type": "code",
   "execution_count": 165,
   "id": "7c8cb371",
   "metadata": {},
   "outputs": [
    {
     "name": "stdout",
     "output_type": "stream",
     "text": [
      "31.7 ms ± 4.53 ms per loop (mean ± std. dev. of 7 runs, 10 loops each)\n"
     ]
    }
   ],
   "source": [
    "%timeit mySum(S)   # much slower than Numpy."
   ]
  },
  {
   "cell_type": "markdown",
   "id": "f25fd421",
   "metadata": {},
   "source": [
    "# that's end"
   ]
  },
  {
   "cell_type": "markdown",
   "id": "fac751e4",
   "metadata": {},
   "source": [
    "# Linespace"
   ]
  },
  {
   "cell_type": "code",
   "execution_count": 166,
   "id": "dcd863b9",
   "metadata": {},
   "outputs": [
    {
     "data": {
      "text/plain": [
       "array([ 0.        ,  1.66666667,  3.33333333,  5.        ,  6.66666667,\n",
       "        8.33333333, 10.        ])"
      ]
     },
     "execution_count": 166,
     "metadata": {},
     "output_type": "execute_result"
    }
   ],
   "source": [
    "np.linspace(0,10,7)"
   ]
  },
  {
   "cell_type": "code",
   "execution_count": 167,
   "id": "113da0e0",
   "metadata": {},
   "outputs": [
    {
     "data": {
      "text/plain": [
       "array([0., 0., 0.])"
      ]
     },
     "execution_count": 167,
     "metadata": {},
     "output_type": "execute_result"
    }
   ],
   "source": [
    "np.zeros(3)"
   ]
  },
  {
   "cell_type": "code",
   "execution_count": 168,
   "id": "b445606a",
   "metadata": {},
   "outputs": [
    {
     "data": {
      "text/plain": [
       "array([[0., 0., 0.],\n",
       "       [0., 0., 0.]])"
      ]
     },
     "execution_count": 168,
     "metadata": {},
     "output_type": "execute_result"
    }
   ],
   "source": [
    "np.zeros((2,3))"
   ]
  },
  {
   "cell_type": "code",
   "execution_count": 169,
   "id": "6bf4a4cc",
   "metadata": {},
   "outputs": [
    {
     "data": {
      "text/plain": [
       "array([[1., 1., 1., 1.],\n",
       "       [1., 1., 1., 1.],\n",
       "       [1., 1., 1., 1.],\n",
       "       [1., 1., 1., 1.],\n",
       "       [1., 1., 1., 1.]])"
      ]
     },
     "execution_count": 169,
     "metadata": {},
     "output_type": "execute_result"
    }
   ],
   "source": [
    "np.ones((5,4))"
   ]
  },
  {
   "cell_type": "code",
   "execution_count": 170,
   "id": "d7085f0c",
   "metadata": {},
   "outputs": [
    {
     "data": {
      "text/plain": [
       "array([[1., 0., 0.],\n",
       "       [0., 1., 0.],\n",
       "       [0., 0., 1.]])"
      ]
     },
     "execution_count": 170,
     "metadata": {},
     "output_type": "execute_result"
    }
   ],
   "source": [
    "np.eye(3)"
   ]
  },
  {
   "cell_type": "code",
   "execution_count": 171,
   "id": "07c3668b",
   "metadata": {},
   "outputs": [
    {
     "data": {
      "text/plain": [
       "array([[1., 0.],\n",
       "       [0., 1.],\n",
       "       [0., 0.]])"
      ]
     },
     "execution_count": 171,
     "metadata": {},
     "output_type": "execute_result"
    }
   ],
   "source": [
    "np.eye(3,2)"
   ]
  },
  {
   "cell_type": "code",
   "execution_count": 172,
   "id": "3291d249",
   "metadata": {},
   "outputs": [],
   "source": [
    "a = np.diag([7,9,7,4])"
   ]
  },
  {
   "cell_type": "code",
   "execution_count": 173,
   "id": "29fcf076",
   "metadata": {},
   "outputs": [
    {
     "name": "stdout",
     "output_type": "stream",
     "text": [
      "[[7 0 0 0]\n",
      " [0 9 0 0]\n",
      " [0 0 7 0]\n",
      " [0 0 0 4]]\n"
     ]
    }
   ],
   "source": [
    "print(a)"
   ]
  },
  {
   "cell_type": "code",
   "execution_count": 174,
   "id": "cfccabe6",
   "metadata": {},
   "outputs": [
    {
     "data": {
      "text/plain": [
       "array([7, 9, 7, 4])"
      ]
     },
     "execution_count": 174,
     "metadata": {},
     "output_type": "execute_result"
    }
   ],
   "source": [
    "np.diag(a)"
   ]
  },
  {
   "cell_type": "code",
   "execution_count": 175,
   "id": "e9e9067f",
   "metadata": {},
   "outputs": [
    {
     "data": {
      "text/plain": [
       "array([63, 12, 28, 27, 16])"
      ]
     },
     "execution_count": 175,
     "metadata": {},
     "output_type": "execute_result"
    }
   ],
   "source": [
    "np.random.randint(5,65,5)"
   ]
  },
  {
   "cell_type": "code",
   "execution_count": 176,
   "id": "d403ea4d",
   "metadata": {},
   "outputs": [
    {
     "data": {
      "text/plain": [
       "array([36, 52, 26, 43, 17])"
      ]
     },
     "execution_count": 176,
     "metadata": {},
     "output_type": "execute_result"
    }
   ],
   "source": [
    "np.random.randint(5,65,size=5)"
   ]
  },
  {
   "cell_type": "code",
   "execution_count": 177,
   "id": "7dae5cf6",
   "metadata": {},
   "outputs": [
    {
     "data": {
      "text/plain": [
       "array([[23,  9, 57, 51],\n",
       "       [51, 20, 64, 54],\n",
       "       [52, 47, 60, 18],\n",
       "       [63, 37, 11, 57],\n",
       "       [58, 40, 10, 20]])"
      ]
     },
     "execution_count": 177,
     "metadata": {},
     "output_type": "execute_result"
    }
   ],
   "source": [
    "np.random.randint(5,65,size=(5,4))"
   ]
  },
  {
   "cell_type": "code",
   "execution_count": 178,
   "id": "709c3ca1",
   "metadata": {},
   "outputs": [],
   "source": [
    "d = np.random.randn(50)"
   ]
  },
  {
   "cell_type": "code",
   "execution_count": 179,
   "id": "c82c6a9d",
   "metadata": {},
   "outputs": [
    {
     "data": {
      "text/plain": [
       "array([ 0.04653336, -0.86072921, -0.74927055, -0.08930669,  1.73184831,\n",
       "       -1.07199315, -0.75456694, -1.72756534, -0.97349438, -0.14045927,\n",
       "       -1.20202894,  0.61347042, -1.39232536, -0.49343526,  1.15565759,\n",
       "        0.60699446,  0.21903732,  0.23117117,  1.13112778, -0.43557711,\n",
       "       -0.60548866, -0.35393838, -1.14408245, -0.24342814,  0.92468016,\n",
       "        0.93738325, -0.8335455 ,  0.30119951, -1.28284326,  1.200369  ,\n",
       "       -0.03546224,  2.09661328, -0.83376906, -0.80402375,  1.0430117 ,\n",
       "       -1.19624186,  1.48465322,  1.0805835 , -0.68120387,  0.96715998,\n",
       "       -0.97467839,  0.51573824, -1.17584956, -1.20080901,  0.89026853,\n",
       "       -1.51995862,  1.91209568,  0.48523973,  1.8927794 ,  0.04425641])"
      ]
     },
     "execution_count": 179,
     "metadata": {},
     "output_type": "execute_result"
    }
   ],
   "source": [
    "d"
   ]
  },
  {
   "cell_type": "code",
   "execution_count": 180,
   "id": "0a2bd35e",
   "metadata": {},
   "outputs": [],
   "source": [
    "import seaborn as sns"
   ]
  },
  {
   "cell_type": "code",
   "execution_count": 181,
   "id": "526f0665",
   "metadata": {},
   "outputs": [
    {
     "name": "stderr",
     "output_type": "stream",
     "text": [
      "C:\\Users\\dell\\anaconda3\\lib\\site-packages\\seaborn\\distributions.py:2557: FutureWarning: `distplot` is a deprecated function and will be removed in a future version. Please adapt your code to use either `displot` (a figure-level function with similar flexibility) or `histplot` (an axes-level function for histograms).\n",
      "  warnings.warn(msg, FutureWarning)\n"
     ]
    },
    {
     "data": {
      "text/plain": [
       "<AxesSubplot:ylabel='Density'>"
      ]
     },
     "execution_count": 181,
     "metadata": {},
     "output_type": "execute_result"
    },
    {
     "data": {
      "image/png": "[encoded data removed]",
      "text/plain": [
       "<Figure size 432x288 with 1 Axes>"
      ]
     },
     "metadata": {
      "needs_background": "light"
     },
     "output_type": "display_data"
    }
   ],
   "source": [
    "sns.distplot(d)"
   ]
  },
  {
   "cell_type": "code",
   "execution_count": 182,
   "id": "52ada2da",
   "metadata": {},
   "outputs": [],
   "source": [
    "import matplotlib.pyplot as plt"
   ]
  },
  {
   "cell_type": "code",
   "execution_count": 183,
   "id": "1d1f5575",
   "metadata": {},
   "outputs": [
    {
     "data": {
      "image/png": "[encoded data removed]",
      "text/plain": [
       "<Figure size 432x288 with 1 Axes>"
      ]
     },
     "metadata": {
      "needs_background": "light"
     },
     "output_type": "display_data"
    }
   ],
   "source": [
    "plt.hist(d)\n",
    "plt.show()"
   ]
  },
  {
   "cell_type": "code",
   "execution_count": 184,
   "id": "4c2a7a6a",
   "metadata": {},
   "outputs": [
    {
     "data": {
      "text/plain": [
       "array([0.05665548, 0.36448817, 0.38756192, 0.36029088, 0.49471369,\n",
       "       0.49662181, 0.70643112, 0.44755655, 0.61866708, 0.13727203,\n",
       "       0.4284224 , 0.83422274, 0.9113981 , 0.18674672, 0.39178541,\n",
       "       0.87702527, 0.5608496 , 0.59691774, 0.85663245, 0.94897853])"
      ]
     },
     "execution_count": 184,
     "metadata": {},
     "output_type": "execute_result"
    }
   ],
   "source": [
    "a = np.random.rand(20)\n",
    "a"
   ]
  },
  {
   "cell_type": "code",
   "execution_count": 185,
   "id": "dc65c223",
   "metadata": {},
   "outputs": [
    {
     "name": "stderr",
     "output_type": "stream",
     "text": [
      "C:\\Users\\dell\\anaconda3\\lib\\site-packages\\seaborn\\distributions.py:2557: FutureWarning: `distplot` is a deprecated function and will be removed in a future version. Please adapt your code to use either `displot` (a figure-level function with similar flexibility) or `histplot` (an axes-level function for histograms).\n",
      "  warnings.warn(msg, FutureWarning)\n"
     ]
    },
    {
     "data": {
      "text/plain": [
       "<AxesSubplot:ylabel='Density'>"
      ]
     },
     "execution_count": 185,
     "metadata": {},
     "output_type": "execute_result"
    },
    {
     "data": {
      "image/png": "[encoded data removed]",
      "text/plain": [
       "<Figure size 432x288 with 1 Axes>"
      ]
     },
     "metadata": {
      "needs_background": "light"
     },
     "output_type": "display_data"
    }
   ],
   "source": [
    "sns.distplot(a)"
   ]
  },
  {
   "cell_type": "code",
   "execution_count": 186,
   "id": "78c32c59",
   "metadata": {},
   "outputs": [
    {
     "data": {
      "text/plain": [
       "array([ 83, 154, 164,  29,  53,  63, 179,  13,  23,  94,  46,  52,   2,\n",
       "        12, 148,  79,  69,  14, 174,  21])"
      ]
     },
     "execution_count": 186,
     "metadata": {},
     "output_type": "execute_result"
    }
   ],
   "source": [
    "c = np.random.randint(2,200,20)\n",
    "c"
   ]
  },
  {
   "cell_type": "code",
   "execution_count": 187,
   "id": "8465763b",
   "metadata": {},
   "outputs": [
    {
     "name": "stderr",
     "output_type": "stream",
     "text": [
      "C:\\Users\\dell\\anaconda3\\lib\\site-packages\\seaborn\\distributions.py:2557: FutureWarning: `distplot` is a deprecated function and will be removed in a future version. Please adapt your code to use either `displot` (a figure-level function with similar flexibility) or `histplot` (an axes-level function for histograms).\n",
      "  warnings.warn(msg, FutureWarning)\n"
     ]
    },
    {
     "data": {
      "text/plain": [
       "<AxesSubplot:ylabel='Density'>"
      ]
     },
     "execution_count": 187,
     "metadata": {},
     "output_type": "execute_result"
    },
    {
     "data": {
      "image/png": "[encoded data removed]",
      "text/plain": [
       "<Figure size 432x288 with 1 Axes>"
      ]
     },
     "metadata": {
      "needs_background": "light"
     },
     "output_type": "display_data"
    }
   ],
   "source": [
    "sns.distplot(c)"
   ]
  },
  {
   "cell_type": "code",
   "execution_count": 188,
   "id": "9c783a78",
   "metadata": {},
   "outputs": [
    {
     "name": "stdout",
     "output_type": "stream",
     "text": [
      "[100   2   3]\n",
      "[100   2   3]\n"
     ]
    }
   ],
   "source": [
    "x = np.array([1,2,3])\n",
    "y=x\n",
    "y[0]=100\n",
    "print(x)\n",
    "print(y)"
   ]
  },
  {
   "cell_type": "code",
   "execution_count": 189,
   "id": "017c95c8",
   "metadata": {},
   "outputs": [
    {
     "name": "stdout",
     "output_type": "stream",
     "text": [
      "[1 2 3]\n",
      "[100   2   3]\n"
     ]
    }
   ],
   "source": [
    "x = np.array([1,2,3])\n",
    "y=x.copy()\n",
    "y[0]=100\n",
    "print(x)\n",
    "print(y)"
   ]
  },
  {
   "cell_type": "code",
   "execution_count": 190,
   "id": "fdbe397d",
   "metadata": {},
   "outputs": [
    {
     "data": {
      "text/plain": [
       "array([28, 23, 47, 46, 26, 22, 28, 37, 28, 39, 43, 22, 35, 40, 33, 34, 21,\n",
       "       47, 40, 41])"
      ]
     },
     "execution_count": 190,
     "metadata": {},
     "output_type": "execute_result"
    }
   ],
   "source": [
    "a = np.random.randint(20,50,20)\n",
    "a"
   ]
  },
  {
   "cell_type": "code",
   "execution_count": 191,
   "id": "475e6586",
   "metadata": {},
   "outputs": [
    {
     "data": {
      "text/plain": [
       "array([[28, 23, 47, 46, 26],\n",
       "       [22, 28, 37, 28, 39],\n",
       "       [43, 22, 35, 40, 33],\n",
       "       [34, 21, 47, 40, 41]])"
      ]
     },
     "execution_count": 191,
     "metadata": {},
     "output_type": "execute_result"
    }
   ],
   "source": [
    "b= a.reshape(4,5)\n",
    "b"
   ]
  },
  {
   "cell_type": "code",
   "execution_count": 192,
   "id": "872b1bdc",
   "metadata": {},
   "outputs": [
    {
     "data": {
      "text/plain": [
       "array([0.09377317, 0.47525192, 0.19582416, 0.5093971 , 0.32829232,\n",
       "       0.79354045, 0.47054066, 0.74563615, 0.2107633 , 0.39540608,\n",
       "       0.64167461, 0.35597957, 0.34301913, 0.30974443, 0.44581592,\n",
       "       0.84012312, 0.98083483, 0.45577345, 0.18131046, 0.73198749,\n",
       "       0.97021507, 0.54470802, 0.4528281 , 0.72335834, 0.40380763,\n",
       "       0.66257554, 0.64626166, 0.97362095, 0.83120672, 0.26199035])"
      ]
     },
     "execution_count": 192,
     "metadata": {},
     "output_type": "execute_result"
    }
   ],
   "source": [
    "a = np.random.rand(30)\n",
    "a"
   ]
  },
  {
   "cell_type": "code",
   "execution_count": 193,
   "id": "c1b5c142",
   "metadata": {},
   "outputs": [
    {
     "data": {
      "text/plain": [
       "array([[0.09377317, 0.47525192, 0.19582416, 0.5093971 , 0.32829232],\n",
       "       [0.79354045, 0.47054066, 0.74563615, 0.2107633 , 0.39540608],\n",
       "       [0.64167461, 0.35597957, 0.34301913, 0.30974443, 0.44581592],\n",
       "       [0.84012312, 0.98083483, 0.45577345, 0.18131046, 0.73198749],\n",
       "       [0.97021507, 0.54470802, 0.4528281 , 0.72335834, 0.40380763],\n",
       "       [0.66257554, 0.64626166, 0.97362095, 0.83120672, 0.26199035]])"
      ]
     },
     "execution_count": 193,
     "metadata": {},
     "output_type": "execute_result"
    }
   ],
   "source": [
    "a.reshape(6,5)"
   ]
  },
  {
   "cell_type": "code",
   "execution_count": 194,
   "id": "d7d86a1d",
   "metadata": {},
   "outputs": [
    {
     "data": {
      "text/plain": [
       "array([ 0.01969091,  0.57133042, -0.42626366, -1.37668634,  0.24661108,\n",
       "        0.78099137, -0.14450977, -1.39596394, -0.26869859, -0.09082202,\n",
       "       -1.39242593,  1.88499147, -0.65677658,  0.01379005, -1.16688326])"
      ]
     },
     "execution_count": 194,
     "metadata": {},
     "output_type": "execute_result"
    }
   ],
   "source": [
    "a = np.random.randn(15)\n",
    "a"
   ]
  },
  {
   "cell_type": "code",
   "execution_count": 195,
   "id": "8d9099ed",
   "metadata": {},
   "outputs": [
    {
     "data": {
      "text/plain": [
       "array([[ 0.01969091,  0.57133042, -0.42626366, -1.37668634,  0.24661108],\n",
       "       [ 0.78099137, -0.14450977, -1.39596394, -0.26869859, -0.09082202],\n",
       "       [-1.39242593,  1.88499147, -0.65677658,  0.01379005, -1.16688326]])"
      ]
     },
     "execution_count": 195,
     "metadata": {},
     "output_type": "execute_result"
    }
   ],
   "source": [
    "a.reshape(3,5)"
   ]
  },
  {
   "cell_type": "code",
   "execution_count": 196,
   "id": "f6d295ef",
   "metadata": {},
   "outputs": [
    {
     "data": {
      "text/plain": [
       "array([10,  2,  9,  7,  6,  4,  5,  0, 11,  3,  1,  8])"
      ]
     },
     "execution_count": 196,
     "metadata": {},
     "output_type": "execute_result"
    }
   ],
   "source": [
    "a = np.random.permutation(np.arange(12))\n",
    "a"
   ]
  },
  {
   "cell_type": "code",
   "execution_count": 197,
   "id": "d0f18211",
   "metadata": {},
   "outputs": [
    {
     "data": {
      "text/plain": [
       "array([[10,  2,  9],\n",
       "       [ 7,  6,  4],\n",
       "       [ 5,  0, 11],\n",
       "       [ 3,  1,  8]])"
      ]
     },
     "execution_count": 197,
     "metadata": {},
     "output_type": "execute_result"
    }
   ],
   "source": [
    "a1= a.reshape(4,3)\n",
    "a1"
   ]
  },
  {
   "cell_type": "code",
   "execution_count": 198,
   "id": "f15cfed3",
   "metadata": {},
   "outputs": [
    {
     "data": {
      "text/plain": [
       "array([[ 2,  9, 10],\n",
       "       [ 4,  6,  7],\n",
       "       [ 0,  5, 11],\n",
       "       [ 1,  3,  8]])"
      ]
     },
     "execution_count": 198,
     "metadata": {},
     "output_type": "execute_result"
    }
   ],
   "source": [
    "np.sort(a1,axis=1)"
   ]
  },
  {
   "cell_type": "code",
   "execution_count": 199,
   "id": "c93b3e09",
   "metadata": {},
   "outputs": [
    {
     "data": {
      "text/plain": [
       "array([[ 3,  0,  4],\n",
       "       [ 5,  1,  8],\n",
       "       [ 7,  2,  9],\n",
       "       [10,  6, 11]])"
      ]
     },
     "execution_count": 199,
     "metadata": {},
     "output_type": "execute_result"
    }
   ],
   "source": [
    "np.sort(a1,axis=0)"
   ]
  },
  {
   "cell_type": "code",
   "execution_count": 200,
   "id": "66c51e1f",
   "metadata": {},
   "outputs": [
    {
     "data": {
      "text/plain": [
       "array([[10,  2,  9],\n",
       "       [ 7,  6,  4],\n",
       "       [ 5,  0, 11],\n",
       "       [ 3,  1,  8]])"
      ]
     },
     "execution_count": 200,
     "metadata": {},
     "output_type": "execute_result"
    }
   ],
   "source": [
    "a1"
   ]
  },
  {
   "cell_type": "code",
   "execution_count": null,
   "id": "21ad564e",
   "metadata": {},
   "outputs": [],
   "source": []
  },
  {
   "cell_type": "code",
   "execution_count": 201,
   "id": "20d80037",
   "metadata": {},
   "outputs": [
    {
     "data": {
      "text/plain": [
       "array([10,  7,  6,  4,  5,  0,  3,  1,  8])"
      ]
     },
     "execution_count": 201,
     "metadata": {},
     "output_type": "execute_result"
    }
   ],
   "source": [
    "np.delete(a1,[2,1,8])"
   ]
  },
  {
   "cell_type": "code",
   "execution_count": 202,
   "id": "407dee4b",
   "metadata": {},
   "outputs": [
    {
     "data": {
      "text/plain": [
       "array([10,  2,  9,  7,  6,  4,  5,  0, 11,  3,  1,  8,  7,  5, 11])"
      ]
     },
     "execution_count": 202,
     "metadata": {},
     "output_type": "execute_result"
    }
   ],
   "source": [
    "np.append(a1,[7,5,11])"
   ]
  },
  {
   "cell_type": "code",
   "execution_count": 203,
   "id": "09a84ae2",
   "metadata": {},
   "outputs": [
    {
     "data": {
      "text/plain": [
       "array([[1, 0, 0],\n",
       "       [0, 2, 0],\n",
       "       [0, 0, 3]])"
      ]
     },
     "execution_count": 203,
     "metadata": {},
     "output_type": "execute_result"
    }
   ],
   "source": [
    "s = np.diag([1,2,3])\n",
    "s"
   ]
  },
  {
   "cell_type": "code",
   "execution_count": 204,
   "id": "2b0dfcd0",
   "metadata": {},
   "outputs": [],
   "source": [
    "s[2,1]=100"
   ]
  },
  {
   "cell_type": "code",
   "execution_count": 205,
   "id": "e691415a",
   "metadata": {},
   "outputs": [
    {
     "data": {
      "text/plain": [
       "array([[  1,   0,   0],\n",
       "       [  0,   2,   0],\n",
       "       [  0, 100,   3]])"
      ]
     },
     "execution_count": 205,
     "metadata": {},
     "output_type": "execute_result"
    }
   ],
   "source": [
    "s"
   ]
  },
  {
   "cell_type": "code",
   "execution_count": 206,
   "id": "fdd87194",
   "metadata": {},
   "outputs": [
    {
     "data": {
      "text/plain": [
       "array([0, 1, 2, 3, 4, 5, 6, 7, 8, 9])"
      ]
     },
     "execution_count": 206,
     "metadata": {},
     "output_type": "execute_result"
    }
   ],
   "source": [
    "a = np.arange(10)\n",
    "a"
   ]
  },
  {
   "cell_type": "code",
   "execution_count": 207,
   "id": "e21b5b83",
   "metadata": {},
   "outputs": [
    {
     "data": {
      "text/plain": [
       "array([0, 1, 2, 3, 4])"
      ]
     },
     "execution_count": 207,
     "metadata": {},
     "output_type": "execute_result"
    }
   ],
   "source": [
    "b = np.arange(5)\n",
    "b"
   ]
  },
  {
   "cell_type": "code",
   "execution_count": 208,
   "id": "3012351d",
   "metadata": {},
   "outputs": [
    {
     "data": {
      "text/plain": [
       "array([0, 1, 2, 3, 4, 4, 3, 2, 1, 0])"
      ]
     },
     "execution_count": 208,
     "metadata": {},
     "output_type": "execute_result"
    }
   ],
   "source": [
    "a[5:]=b[::-1]\n",
    "a"
   ]
  },
  {
   "cell_type": "code",
   "execution_count": 209,
   "id": "89cfceb4",
   "metadata": {},
   "outputs": [
    {
     "data": {
      "text/plain": [
       "array([13,  1,  3, 13, 14])"
      ]
     },
     "execution_count": 209,
     "metadata": {},
     "output_type": "execute_result"
    }
   ],
   "source": [
    "a = np.random.randint(0,20,5)\n",
    "a"
   ]
  },
  {
   "cell_type": "code",
   "execution_count": 210,
   "id": "ab50aba2",
   "metadata": {},
   "outputs": [
    {
     "data": {
      "text/plain": [
       "array([14])"
      ]
     },
     "execution_count": 210,
     "metadata": {},
     "output_type": "execute_result"
    }
   ],
   "source": [
    "a[a%2==0]"
   ]
  },
  {
   "cell_type": "code",
   "execution_count": 211,
   "id": "86125ab2",
   "metadata": {},
   "outputs": [],
   "source": [
    "a[a%2==0]=-1"
   ]
  },
  {
   "cell_type": "code",
   "execution_count": 212,
   "id": "b2574716",
   "metadata": {},
   "outputs": [
    {
     "data": {
      "text/plain": [
       "array([13,  1,  3, 13, -1])"
      ]
     },
     "execution_count": 212,
     "metadata": {},
     "output_type": "execute_result"
    }
   ],
   "source": [
    "a"
   ]
  },
  {
   "cell_type": "code",
   "execution_count": 213,
   "id": "260b469f",
   "metadata": {},
   "outputs": [],
   "source": [
    "a = np.random.randint(0,101,10)"
   ]
  },
  {
   "cell_type": "code",
   "execution_count": 214,
   "id": "e1335467",
   "metadata": {},
   "outputs": [
    {
     "data": {
      "text/plain": [
       "array([ 1,  9, 94, 14, 26, 81, 93, 42, 43, 46])"
      ]
     },
     "execution_count": 214,
     "metadata": {},
     "output_type": "execute_result"
    }
   ],
   "source": [
    "a"
   ]
  },
  {
   "cell_type": "code",
   "execution_count": 215,
   "id": "0a308485",
   "metadata": {},
   "outputs": [
    {
     "data": {
      "text/plain": [
       "array([94, 81, 26, 94, 14])"
      ]
     },
     "execution_count": 215,
     "metadata": {},
     "output_type": "execute_result"
    }
   ],
   "source": [
    "a[[2,5,4,2,3]]"
   ]
  },
  {
   "cell_type": "code",
   "execution_count": 216,
   "id": "14519322",
   "metadata": {},
   "outputs": [],
   "source": [
    "a[[2,9]] = -500"
   ]
  },
  {
   "cell_type": "code",
   "execution_count": 217,
   "id": "7a594897",
   "metadata": {},
   "outputs": [
    {
     "data": {
      "text/plain": [
       "array([   1,    9, -500,   14,   26,   81,   93,   42,   43, -500])"
      ]
     },
     "execution_count": 217,
     "metadata": {},
     "output_type": "execute_result"
    }
   ],
   "source": [
    "a"
   ]
  },
  {
   "cell_type": "code",
   "execution_count": 218,
   "id": "3c127565",
   "metadata": {},
   "outputs": [
    {
     "data": {
      "text/plain": [
       "array([1, 2, 3, 4])"
      ]
     },
     "execution_count": 218,
     "metadata": {},
     "output_type": "execute_result"
    }
   ],
   "source": [
    "a = np.array([1,2,3,4])\n",
    "a"
   ]
  },
  {
   "cell_type": "code",
   "execution_count": 219,
   "id": "3a9d3cba",
   "metadata": {},
   "outputs": [
    {
     "data": {
      "text/plain": [
       "array([1, 2, 3, 4])"
      ]
     },
     "execution_count": 219,
     "metadata": {},
     "output_type": "execute_result"
    }
   ],
   "source": [
    "a = np.arange(1,5)\n",
    "a"
   ]
  },
  {
   "cell_type": "code",
   "execution_count": 220,
   "id": "492d29dc",
   "metadata": {},
   "outputs": [
    {
     "data": {
      "text/plain": [
       "array([2, 3, 4, 5])"
      ]
     },
     "execution_count": 220,
     "metadata": {},
     "output_type": "execute_result"
    }
   ],
   "source": [
    "a+1"
   ]
  },
  {
   "cell_type": "code",
   "execution_count": 221,
   "id": "9d732027",
   "metadata": {},
   "outputs": [
    {
     "data": {
      "text/plain": [
       "array([ 1,  4,  9, 16], dtype=int32)"
      ]
     },
     "execution_count": 221,
     "metadata": {},
     "output_type": "execute_result"
    }
   ],
   "source": [
    "a**2"
   ]
  },
  {
   "cell_type": "code",
   "execution_count": 222,
   "id": "c6d6df9b",
   "metadata": {},
   "outputs": [
    {
     "data": {
      "text/plain": [
       "array([ 3,  6,  9, 12])"
      ]
     },
     "execution_count": 222,
     "metadata": {},
     "output_type": "execute_result"
    }
   ],
   "source": [
    "a*3"
   ]
  },
  {
   "cell_type": "code",
   "execution_count": 223,
   "id": "41c55846",
   "metadata": {},
   "outputs": [
    {
     "data": {
      "text/plain": [
       "array([2., 2., 2., 2.])"
      ]
     },
     "execution_count": 223,
     "metadata": {},
     "output_type": "execute_result"
    }
   ],
   "source": [
    "b = np.ones(4) + 1\n",
    "b"
   ]
  },
  {
   "cell_type": "code",
   "execution_count": 224,
   "id": "34c52b93",
   "metadata": {},
   "outputs": [
    {
     "data": {
      "text/plain": [
       "array([-1.,  0.,  1.,  2.])"
      ]
     },
     "execution_count": 224,
     "metadata": {},
     "output_type": "execute_result"
    }
   ],
   "source": [
    "a-b"
   ]
  },
  {
   "cell_type": "code",
   "execution_count": 225,
   "id": "c39c2292",
   "metadata": {},
   "outputs": [
    {
     "data": {
      "text/plain": [
       "array([2., 4., 6., 8.])"
      ]
     },
     "execution_count": 225,
     "metadata": {},
     "output_type": "execute_result"
    }
   ],
   "source": [
    "a*b"
   ]
  },
  {
   "cell_type": "code",
   "execution_count": 226,
   "id": "b5999a33",
   "metadata": {},
   "outputs": [
    {
     "data": {
      "text/plain": [
       "array([[ 5,  6],\n",
       "       [ 7,  8],\n",
       "       [ 9, 10]])"
      ]
     },
     "execution_count": 226,
     "metadata": {},
     "output_type": "execute_result"
    }
   ],
   "source": [
    "a = np.array([[1,2],[3,4],[5,6]])\n",
    "b = np.array([[4,4],[4,4],[4,4]])\n",
    "a + b"
   ]
  },
  {
   "cell_type": "code",
   "execution_count": 227,
   "id": "274cd7d2",
   "metadata": {},
   "outputs": [
    {
     "data": {
      "text/plain": [
       "array([[5, 3],\n",
       "       [2, 5],\n",
       "       [5, 3]])"
      ]
     },
     "execution_count": 227,
     "metadata": {},
     "output_type": "execute_result"
    }
   ],
   "source": [
    "a = np.random.randint(7,size=(3,2))\n",
    "a"
   ]
  },
  {
   "cell_type": "code",
   "execution_count": 228,
   "id": "9041be67",
   "metadata": {},
   "outputs": [
    {
     "data": {
      "text/plain": [
       "array([[4, 4],\n",
       "       [4, 4],\n",
       "       [4, 4]])"
      ]
     },
     "execution_count": 228,
     "metadata": {},
     "output_type": "execute_result"
    }
   ],
   "source": [
    "b = np.random.randint(4,5,size=(3,2))\n",
    "b"
   ]
  },
  {
   "cell_type": "code",
   "execution_count": 229,
   "id": "7c1f061a",
   "metadata": {},
   "outputs": [
    {
     "data": {
      "text/plain": [
       "array([[9, 7],\n",
       "       [6, 9],\n",
       "       [9, 7]])"
      ]
     },
     "execution_count": 229,
     "metadata": {},
     "output_type": "execute_result"
    }
   ],
   "source": [
    "a + b"
   ]
  },
  {
   "cell_type": "code",
   "execution_count": 230,
   "id": "420ad8dc",
   "metadata": {},
   "outputs": [
    {
     "data": {
      "text/plain": [
       "array([[20, 12],\n",
       "       [ 8, 20],\n",
       "       [20, 12]])"
      ]
     },
     "execution_count": 230,
     "metadata": {},
     "output_type": "execute_result"
    }
   ],
   "source": [
    "a * b"
   ]
  },
  {
   "cell_type": "code",
   "execution_count": 231,
   "id": "a2fff28a",
   "metadata": {},
   "outputs": [
    {
     "data": {
      "text/plain": [
       "array([[2, 6],\n",
       "       [5, 1],\n",
       "       [5, 7]])"
      ]
     },
     "execution_count": 231,
     "metadata": {},
     "output_type": "execute_result"
    }
   ],
   "source": [
    "a = np.random.randint(1,9,size =(3,2))\n",
    "a"
   ]
  },
  {
   "cell_type": "code",
   "execution_count": 232,
   "id": "58153b42",
   "metadata": {},
   "outputs": [
    {
     "data": {
      "text/plain": [
       "array([[4, 4, 4],\n",
       "       [4, 4, 4]])"
      ]
     },
     "execution_count": 232,
     "metadata": {},
     "output_type": "execute_result"
    }
   ],
   "source": [
    "b = np.random.randint(4,5,size=(2,3))\n",
    "b"
   ]
  },
  {
   "cell_type": "code",
   "execution_count": 233,
   "id": "82155be1",
   "metadata": {},
   "outputs": [
    {
     "data": {
      "text/plain": [
       "array([[32, 32, 32],\n",
       "       [24, 24, 24],\n",
       "       [48, 48, 48]])"
      ]
     },
     "execution_count": 233,
     "metadata": {},
     "output_type": "execute_result"
    }
   ],
   "source": [
    "np.matmul(a,b)"
   ]
  },
  {
   "cell_type": "code",
   "execution_count": 234,
   "id": "eb0c33ba",
   "metadata": {},
   "outputs": [
    {
     "data": {
      "text/plain": [
       "array([False,  True, False,  True])"
      ]
     },
     "execution_count": 234,
     "metadata": {},
     "output_type": "execute_result"
    }
   ],
   "source": [
    "a = np.array([1,2,3,4])\n",
    "b = np.array([5,2,2,4])\n",
    "c = np.array([1,2,3,4])\n",
    "a == b"
   ]
  },
  {
   "cell_type": "code",
   "execution_count": 235,
   "id": "7c57ed43",
   "metadata": {},
   "outputs": [
    {
     "data": {
      "text/plain": [
       "array([False, False,  True, False])"
      ]
     },
     "execution_count": 235,
     "metadata": {},
     "output_type": "execute_result"
    }
   ],
   "source": [
    "a > b"
   ]
  },
  {
   "cell_type": "code",
   "execution_count": 236,
   "id": "1c507c02",
   "metadata": {},
   "outputs": [
    {
     "data": {
      "text/plain": [
       "array([ True, False, False, False])"
      ]
     },
     "execution_count": 236,
     "metadata": {},
     "output_type": "execute_result"
    }
   ],
   "source": [
    "a < b"
   ]
  },
  {
   "cell_type": "code",
   "execution_count": 237,
   "id": "41e8d6a7",
   "metadata": {},
   "outputs": [
    {
     "data": {
      "text/plain": [
       "False"
      ]
     },
     "execution_count": 237,
     "metadata": {},
     "output_type": "execute_result"
    }
   ],
   "source": [
    "np.array_equal(a,b)"
   ]
  },
  {
   "cell_type": "code",
   "execution_count": 238,
   "id": "8807c0d7",
   "metadata": {},
   "outputs": [
    {
     "data": {
      "text/plain": [
       "True"
      ]
     },
     "execution_count": 238,
     "metadata": {},
     "output_type": "execute_result"
    }
   ],
   "source": [
    "np.array_equal(a,c)"
   ]
  },
  {
   "cell_type": "code",
   "execution_count": 239,
   "id": "d2ea8fad",
   "metadata": {},
   "outputs": [
    {
     "data": {
      "text/plain": [
       "array([0, 1, 2, 3, 4])"
      ]
     },
     "execution_count": 239,
     "metadata": {},
     "output_type": "execute_result"
    }
   ],
   "source": [
    "a = np.arange(5)\n",
    "a"
   ]
  },
  {
   "cell_type": "code",
   "execution_count": 240,
   "id": "be0e36fc",
   "metadata": {},
   "outputs": [
    {
     "data": {
      "text/plain": [
       "array([ 0.        ,  0.84147098,  0.90929743,  0.14112001, -0.7568025 ])"
      ]
     },
     "execution_count": 240,
     "metadata": {},
     "output_type": "execute_result"
    }
   ],
   "source": [
    "np.sin(a)"
   ]
  },
  {
   "cell_type": "code",
   "execution_count": 241,
   "id": "5b427458",
   "metadata": {},
   "outputs": [
    {
     "name": "stderr",
     "output_type": "stream",
     "text": [
      "<ipython-input-241-89b6b8e53c58>:1: RuntimeWarning: divide by zero encountered in log\n",
      "  np.log(a)\n"
     ]
    },
    {
     "data": {
      "text/plain": [
       "array([      -inf, 0.        , 0.69314718, 1.09861229, 1.38629436])"
      ]
     },
     "execution_count": 241,
     "metadata": {},
     "output_type": "execute_result"
    }
   ],
   "source": [
    "np.log(a)"
   ]
  },
  {
   "cell_type": "code",
   "execution_count": 242,
   "id": "55b3f146",
   "metadata": {},
   "outputs": [
    {
     "data": {
      "text/plain": [
       "array([ 1.        ,  2.71828183,  7.3890561 , 20.08553692, 54.59815003])"
      ]
     },
     "execution_count": 242,
     "metadata": {},
     "output_type": "execute_result"
    }
   ],
   "source": [
    "np.exp(a)"
   ]
  },
  {
   "cell_type": "code",
   "execution_count": 243,
   "id": "2524067e",
   "metadata": {},
   "outputs": [
    {
     "data": {
      "text/plain": [
       "10"
      ]
     },
     "execution_count": 243,
     "metadata": {},
     "output_type": "execute_result"
    }
   ],
   "source": [
    "a = np.array([1,2,3,4])\n",
    "np.sum(a)"
   ]
  },
  {
   "cell_type": "code",
   "execution_count": 244,
   "id": "d08d950f",
   "metadata": {},
   "outputs": [
    {
     "data": {
      "text/plain": [
       "array([ 1,  3,  6, 10], dtype=int32)"
      ]
     },
     "execution_count": 244,
     "metadata": {},
     "output_type": "execute_result"
    }
   ],
   "source": [
    "np.cumsum(a)"
   ]
  },
  {
   "cell_type": "code",
   "execution_count": 245,
   "id": "9d30a605",
   "metadata": {},
   "outputs": [
    {
     "data": {
      "text/plain": [
       "array([[5, 2],\n",
       "       [9, 5]])"
      ]
     },
     "execution_count": 245,
     "metadata": {},
     "output_type": "execute_result"
    }
   ],
   "source": [
    "x = np.array([[5,2],[9,5]])\n",
    "x"
   ]
  },
  {
   "cell_type": "code",
   "execution_count": 246,
   "id": "2014f83f",
   "metadata": {},
   "outputs": [
    {
     "data": {
      "text/plain": [
       "array([14,  7])"
      ]
     },
     "execution_count": 246,
     "metadata": {},
     "output_type": "execute_result"
    }
   ],
   "source": [
    "np.sum(x,axis=0)"
   ]
  },
  {
   "cell_type": "code",
   "execution_count": 247,
   "id": "4a03df22",
   "metadata": {},
   "outputs": [
    {
     "data": {
      "text/plain": [
       "array([ 7, 14])"
      ]
     },
     "execution_count": 247,
     "metadata": {},
     "output_type": "execute_result"
    }
   ],
   "source": [
    "np.sum(x,axis=1)"
   ]
  },
  {
   "cell_type": "code",
   "execution_count": 248,
   "id": "cb8e4263",
   "metadata": {},
   "outputs": [
    {
     "data": {
      "text/plain": [
       "array([0, 1, 2, 3, 4, 5, 6, 7, 8, 9])"
      ]
     },
     "execution_count": 248,
     "metadata": {},
     "output_type": "execute_result"
    }
   ],
   "source": [
    "n = np.arange(0,10,1)\n",
    "n"
   ]
  },
  {
   "cell_type": "code",
   "execution_count": 249,
   "id": "df1ca93a",
   "metadata": {},
   "outputs": [
    {
     "data": {
      "text/plain": [
       "0"
      ]
     },
     "execution_count": 249,
     "metadata": {},
     "output_type": "execute_result"
    }
   ],
   "source": [
    "np.min(n)"
   ]
  },
  {
   "cell_type": "code",
   "execution_count": 250,
   "id": "b4b800a0",
   "metadata": {},
   "outputs": [
    {
     "data": {
      "text/plain": [
       "9"
      ]
     },
     "execution_count": 250,
     "metadata": {},
     "output_type": "execute_result"
    }
   ],
   "source": [
    "np.max(n)"
   ]
  },
  {
   "cell_type": "code",
   "execution_count": 251,
   "id": "8c0cbd02",
   "metadata": {},
   "outputs": [
    {
     "data": {
      "text/plain": [
       "45"
      ]
     },
     "execution_count": 251,
     "metadata": {},
     "output_type": "execute_result"
    }
   ],
   "source": [
    "np.sum(n)"
   ]
  },
  {
   "cell_type": "code",
   "execution_count": 252,
   "id": "3dddc36d",
   "metadata": {},
   "outputs": [
    {
     "data": {
      "text/plain": [
       "array([ 0,  1,  3,  6, 10, 15, 21, 28, 36, 45], dtype=int32)"
      ]
     },
     "execution_count": 252,
     "metadata": {},
     "output_type": "execute_result"
    }
   ],
   "source": [
    "np.cumsum(n)"
   ]
  },
  {
   "cell_type": "code",
   "execution_count": 253,
   "id": "30dba4d5",
   "metadata": {},
   "outputs": [
    {
     "data": {
      "text/plain": [
       "4.5"
      ]
     },
     "execution_count": 253,
     "metadata": {},
     "output_type": "execute_result"
    }
   ],
   "source": [
    "np.mean(n)"
   ]
  },
  {
   "cell_type": "code",
   "execution_count": 254,
   "id": "19285d1a",
   "metadata": {},
   "outputs": [
    {
     "data": {
      "text/plain": [
       "4.5"
      ]
     },
     "execution_count": 254,
     "metadata": {},
     "output_type": "execute_result"
    }
   ],
   "source": [
    "np.median(n)"
   ]
  },
  {
   "cell_type": "code",
   "execution_count": 255,
   "id": "4ada9244",
   "metadata": {},
   "outputs": [
    {
     "data": {
      "text/plain": [
       "2.8722813232690143"
      ]
     },
     "execution_count": 255,
     "metadata": {},
     "output_type": "execute_result"
    }
   ],
   "source": [
    "np.std(n)"
   ]
  },
  {
   "cell_type": "code",
   "execution_count": 256,
   "id": "da03d975",
   "metadata": {},
   "outputs": [
    {
     "data": {
      "text/plain": [
       "2.8722813232690143"
      ]
     },
     "execution_count": 256,
     "metadata": {},
     "output_type": "execute_result"
    }
   ],
   "source": [
    "n.std()"
   ]
  },
  {
   "cell_type": "code",
   "execution_count": null,
   "id": "ffb0212f",
   "metadata": {},
   "outputs": [],
   "source": []
  }
 ],
 "metadata": {
  "kernelspec": {
   "display_name": "Python 3",
   "language": "python",
   "name": "python3"
  },
  "language_info": {
   "codemirror_mode": {
    "name": "ipython",
    "version": 3
   },
   "file_extension": ".py",
   "mimetype": "text/x-python",
   "name": "python",
   "nbconvert_exporter": "python",
   "pygments_lexer": "ipython3",
   "version": "3.8.8"
  }
 },
 "nbformat": 4,
 "nbformat_minor": 5
}
